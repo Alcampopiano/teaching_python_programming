{
 "cells": [
  {
   "cell_type": "markdown",
   "metadata": {
    "colab_type": "text",
    "id": "aGisXFdYMo0k"
   },
   "source": [
    "\n",
    "![alt text](https://upload.wikimedia.org/wikipedia/commons/c/c3/Python-logo-notext.svg)\n",
    "\n",
    "# Intro to the Python language\n",
    "\n",
    "## Outline:\n",
    "\n",
    "1. what is programming?\n",
    "\n",
    "2. what is Python?\n",
    "\n",
    "3. what do people use Python for?\n",
    "\n",
    "4. who uses Python\n",
    "\n",
    "5. Python popularity relative to other languages?\n",
    "\n",
    "6. Let's start coding\n",
    "\n"
   ]
  },
  {
   "cell_type": "markdown",
   "metadata": {
    "colab_type": "text",
    "id": "DFO62kBpkRlZ"
   },
   "source": [
    "## What is programming?\n",
    "\n",
    "- “Do this; then do that.”\n",
    "\n",
    "- “If this condition is true, perform this action; otherwise, do that action.”\n",
    "\n",
    "- “Do this action a certain number of times.”\n",
    "\n",
    "- “Keep doing an action until this condition is true.”\n",
    "\n",
    "-  <font color=blue>you do not need to have a computer science degree\n",
    "\n",
    "- you do not need to be good at math\n",
    "\n",
    "- programming is a creative activity"
   ]
  },
  {
   "cell_type": "markdown",
   "metadata": {
    "colab_type": "text",
    "id": "ZAKEvJzoVGwd"
   },
   "source": [
    "## What is Python?\n",
    "\n",
    "- a general purpose programming language\n",
    " - like a swiss army knife\n",
    " - the 2<sup>nd</sup> best language for everything\n",
    "\n",
    "- easy to read syntax\n",
    "\n",
    "- depite being easy to read and write, Python is still very powerful\n",
    "\n",
    "- <font color = red>Python is expressive"
   ]
  },
  {
   "cell_type": "markdown",
   "metadata": {
    "colab_type": "text",
    "id": "ORtuUPR0x9eJ"
   },
   "source": [
    "## What do people use Python for?\n",
    "- making websites\n",
    "- data analysis \n",
    "- controlling machines\n",
    "- machine learning\n",
    "- game development\n",
    "- web scraping\n",
    "- factory automation\n",
    " - 20.20\n",
    "\n",
    "    <a href=\"http://www.youtube.com/watch?feature=player_embedded&v=cEyVfiix1Lw\n",
    "    \" target=\"_blank\"><img src=\"http://img.youtube.com/vi/cEyVfiix1Lw/0.jpg\" \n",
    "    alt=\"IMAGE ALT TEXT HERE\" width=\"300\" height=\"220\" /></a>"
   ]
  },
  {
   "cell_type": "markdown",
   "metadata": {
    "colab_type": "text",
    "id": "DkBKG14Fmbdn"
   },
   "source": [
    "## Who uses Python?\n",
    "\n",
    "- Google\n",
    "- IBM\n",
    "- NASA\n",
    "- Instagram\n",
    "- YouTube\n",
    "- Dropbox\n",
    "- National Weather Service\n",
    "- medical scientists (detecting tumours)\n",
    "- research scientists\n",
    "- financial institutions\n",
    "\n",
    "... and many more"
   ]
  },
  {
   "cell_type": "markdown",
   "metadata": {
    "colab_type": "text",
    "id": "uIeprPb9x-GJ"
   },
   "source": [
    "## Python popularity relative to other languages?\n",
    "\n",
    "![alt text](https://zgab33vy595fw5zq-zippykid.netdna-ssl.com/wp-content/uploads/2017/09/growth_major_languages-1-1024x878.png)\n",
    "\n",
    "---\n",
    "\n",
    "![alt text](https://zgab33vy595fw5zq-zippykid.netdna-ssl.com/wp-content/uploads/2017/09/projections-1-1024x878.png)"
   ]
  },
  {
   "cell_type": "markdown",
   "metadata": {
    "colab_type": "text",
    "id": "DNaNA6nzx-np"
   },
   "source": [
    "# Using this page\n",
    "- the page you are looking at is called a \"notebook\"\n",
    " - a place to write and run code, as well as write rich text\n",
    "  - as you can see, I'm using notebooks as my presentation tool, but we will also run code directly on this page"
   ]
  },
  {
   "cell_type": "markdown",
   "metadata": {
    "colab_type": "text",
    "id": "3HnTOJaN0Fsk"
   },
   "source": [
    "## Hit \"play\" to run the following chunks of code to see what happens\n",
    "- try to predict what the result will be\n",
    "- we will begin with the \"print\" function\n",
    " - simply displays a result on the screen\n",
    "- <font color=blue>you will be tested at the end of each section</font color>\n"
   ]
  },
  {
   "cell_type": "markdown",
   "metadata": {
    "colab_type": "text",
    "id": "LrocTPfn03lG"
   },
   "source": [
    "## Hit play"
   ]
  },
  {
   "cell_type": "code",
   "execution_count": 3,
   "metadata": {
    "colab": {
     "autoexec": {
      "startup": false,
      "wait_interval": 0
     },
     "base_uri": "https://localhost:8080/",
     "height": 34
    },
    "colab_type": "code",
    "executionInfo": {
     "elapsed": 248,
     "status": "ok",
     "timestamp": 1533304223522,
     "user": {
      "displayName": "Allan Campopiano",
      "photoUrl": "//lh6.googleusercontent.com/-jajm12wFRU4/AAAAAAAAAAI/AAAAAAAAAws/b_aS-B759i4/s50-c-k-no/photo.jpg",
      "userId": "113962595821525423496"
     },
     "user_tz": 240
    },
    "id": "VQC3fgp60bjm",
    "outputId": "901d8535-8853-4cfe-9e71-25c307d76972"
   },
   "outputs": [
    {
     "name": "stdout",
     "output_type": "stream",
     "text": [
      "I am notebook\n"
     ]
    }
   ],
   "source": [
    "print('I am notebook')"
   ]
  },
  {
   "cell_type": "code",
   "execution_count": 4,
   "metadata": {
    "colab": {
     "autoexec": {
      "startup": false,
      "wait_interval": 0
     },
     "base_uri": "https://localhost:8080/",
     "height": 34
    },
    "colab_type": "code",
    "executionInfo": {
     "elapsed": 245,
     "status": "ok",
     "timestamp": 1533304250690,
     "user": {
      "displayName": "Allan Campopiano",
      "photoUrl": "//lh6.googleusercontent.com/-jajm12wFRU4/AAAAAAAAAAI/AAAAAAAAAws/b_aS-B759i4/s50-c-k-no/photo.jpg",
      "userId": "113962595821525423496"
     },
     "user_tz": 240
    },
    "id": "BsduH4Wa0ho2",
    "outputId": "25d15aef-8cdd-4ddd-d4b4-deacfe3793ef"
   },
   "outputs": [
    {
     "name": "stdout",
     "output_type": "stream",
     "text": [
      "Isn't it cool that I did not have to install any software?\n"
     ]
    }
   ],
   "source": [
    "print(\"Isn't it cool that I did not have to install any software?\")"
   ]
  },
  {
   "cell_type": "markdown",
   "metadata": {
    "colab_type": "text",
    "id": "gCG2AbF009Ph"
   },
   "source": [
    "## Remove cell\n",
    " - right click in the left margin of the cell\n",
    "  - delete cell"
   ]
  },
  {
   "cell_type": "code",
   "execution_count": null,
   "metadata": {
    "colab": {
     "autoexec": {
      "startup": false,
      "wait_interval": 0
     }
    },
    "colab_type": "code",
    "id": "BuT6kRnsD2eU"
   },
   "outputs": [],
   "source": [
    "'delete me!'"
   ]
  },
  {
   "cell_type": "markdown",
   "metadata": {
    "colab_type": "text",
    "id": "DQnCWSPn1Mgm"
   },
   "source": [
    "## Removing output\n",
    "- first hit \"play\" then remove the output\n",
    " - click on the left of the output and hit \"clear output\"\n",
    " - hover in top left of the output and hit the \"x\""
   ]
  },
  {
   "cell_type": "code",
   "execution_count": null,
   "metadata": {
    "colab": {
     "autoexec": {
      "startup": false,
      "wait_interval": 0
     }
    },
    "colab_type": "code",
    "id": "gzBldNux1UeH"
   },
   "outputs": [],
   "source": [
    "print('this\\nis\\nreally\\nreally\\nannoying\\noutput\\nplease\\nremove')"
   ]
  },
  {
   "cell_type": "markdown",
   "metadata": {
    "colab_type": "text",
    "id": "u6m13a5S2HrX"
   },
   "source": [
    "## Create a new code cell\n",
    "- hover near the bottom of cell and click \"![alt text](http://www.free-icons-download.net/images/plus-logo-icon-27956.png =12x12) code\"\n"
   ]
  },
  {
   "cell_type": "code",
   "execution_count": 5,
   "metadata": {
    "colab": {
     "autoexec": {
      "startup": false,
      "wait_interval": 0
     },
     "base_uri": "https://localhost:8080/",
     "height": 34
    },
    "colab_type": "code",
    "executionInfo": {
     "elapsed": 426,
     "status": "ok",
     "timestamp": 1531836756424,
     "user": {
      "displayName": "Allan Campopiano",
      "photoUrl": "//lh6.googleusercontent.com/-jajm12wFRU4/AAAAAAAAAAI/AAAAAAAAAws/b_aS-B759i4/s50-c-k-no/photo.jpg",
      "userId": "113962595821525423496"
     },
     "user_tz": 240
    },
    "id": "P5PuDJCalZaz",
    "outputId": "8fc63bda-005a-4aee-e4e6-f094e8a0ce2e"
   },
   "outputs": [
    {
     "name": "stdout",
     "output_type": "stream",
     "text": [
      "hello my name is Al\n"
     ]
    }
   ],
   "source": [
    "print('hello my name is Al')"
   ]
  },
  {
   "cell_type": "code",
   "execution_count": null,
   "metadata": {
    "colab": {
     "autoexec": {
      "startup": false,
      "wait_interval": 0
     }
    },
    "colab_type": "code",
    "id": "ijNNDJsnlZEt"
   },
   "outputs": [],
   "source": []
  },
  {
   "cell_type": "code",
   "execution_count": null,
   "metadata": {
    "colab": {
     "autoexec": {
      "startup": false,
      "wait_interval": 0
     }
    },
    "colab_type": "code",
    "id": "fcRKdZEElY6Z"
   },
   "outputs": [],
   "source": []
  },
  {
   "cell_type": "code",
   "execution_count": null,
   "metadata": {
    "colab": {
     "autoexec": {
      "startup": false,
      "wait_interval": 0
     }
    },
    "colab_type": "code",
    "id": "eRPqrsQ-lXo7"
   },
   "outputs": [],
   "source": []
  }
 ],
 "metadata": {
  "colab": {
   "collapsed_sections": [],
   "default_view": {},
   "name": "2_intro_to_python",
   "provenance": [
    {
     "file_id": "1B2kdhnm0KDZpANC2WT4lirXOxNHQ5FF2",
     "timestamp": 1530232572724
    }
   ],
   "version": "0.3.2",
   "views": {}
  },
  "kernelspec": {
   "display_name": "Python 3",
   "language": "python",
   "name": "python3"
  },
  "language_info": {
   "codemirror_mode": {
    "name": "ipython",
    "version": 3
   },
   "file_extension": ".py",
   "mimetype": "text/x-python",
   "name": "python",
   "nbconvert_exporter": "python",
   "pygments_lexer": "ipython3",
   "version": "3.7.1"
  }
 },
 "nbformat": 4,
 "nbformat_minor": 4
}
