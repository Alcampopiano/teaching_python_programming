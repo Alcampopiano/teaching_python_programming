{
 "cells": [
  {
   "cell_type": "markdown",
   "metadata": {
    "colab_type": "text",
    "id": "aGisXFdYMo0k"
   },
   "source": [
    "\n",
    "![alt text](https://upload.wikimedia.org/wikipedia/commons/c/c3/Python-logo-notext.svg)\n",
    "\n",
    "# Automate the boring stuff with Python\n",
    "\n",
    "There are two goals for this workshop:\n",
    "\n",
    "1. teach you how to recognize opportunities for automation (even if you cannot implement it yourself)\n",
    "2. give you hands-on practice with Python for those who may want to use it on their own"
   ]
  },
  {
   "cell_type": "markdown",
   "metadata": {
    "colab_type": "text",
    "id": "7lCo8yiRQ7DX"
   },
   "source": [
    "## Schedule\n",
    "\n",
    "- 9-10:30 \n",
    " - introduction and intro to Python\n",
    "- 10:30-10:45\n",
    " - break/practice\n",
    "- 10:45-11:45\n",
    " - basic programming concepts \n",
    " - functions and methods\n",
    "- 11:45-1\n",
    " - lunch (yum)\n",
    "- 1-2:30\n",
    " - working with speadsheets\n",
    "- 2:30-2:45\n",
    " - break/practice\n",
    "- 2:45-3:30\n",
    " - really working with spreadsheets\n",
    " "
   ]
  },
  {
   "cell_type": "markdown",
   "metadata": {
    "colab_type": "text",
    "id": "IL9a1kfXQ_Bp"
   },
   "source": [
    "## Say hi to Grant\n",
    "- he will be helping you if you have a problem\n",
    "- Grant is proof that programming does not cause hair loss ![alt text](https://www.maskemojis.com/wp-content/uploads/2015/09/Wink-Face.png =20x20)\n"
   ]
  },
  {
   "cell_type": "markdown",
   "metadata": {
    "colab_type": "text",
    "id": "oem1wEDLcbcG"
   },
   "source": [
    "## During the workshop...\n",
    "- please feel free to help your neighbour\n",
    "- please ask questions and pose challenges\n",
    "- you will be tested frequently along the way"
   ]
  },
  {
   "cell_type": "markdown",
   "metadata": {
    "colab_type": "text",
    "id": "swIon0Zyp9fr"
   },
   "source": [
    "## Let's begin with a familiar problem\n",
    "\n",
    "- rename a bunch of files\n",
    " - Baillet et al. - 1998 - EVALUATION OF INVERSE METHODS AND HEAD MODELS FOR EEG SOURCE LOCALIZATION USING A HUMAN SKULL PHANTOM.pdf\n",
    " \n",
    " - evaluation_of_inverse_methods_and_head_models_for_eeg_source_localization_using_a_human_skull_phantom_1998.pdf\n",
    "\n",
    "- how would you solve this by hand?\n",
    "\n",
    " \n",
    "\n",
    "```python\n",
    "import os\n",
    "files=os.listdir()\n",
    "\n",
    "for file_name in files:\n",
    "    author, year, title = file_name.replace(' ', '_').split('-')\n",
    "    year = year.strip('_')\n",
    "    title_year = year + title\n",
    "    os.rename(file_name, title_year.lower())\n",
    "\n",
    "```"
   ]
  },
  {
   "cell_type": "markdown",
   "metadata": {
    "colab_type": "text",
    "id": "hwpfpuyvxxEs"
   },
   "source": [
    "## <font color=blue>You might want to use programming when..."
   ]
  },
  {
   "cell_type": "markdown",
   "metadata": {
    "colab_type": "text",
    "id": "q7luB40WYeSu"
   },
   "source": [
    "# Materials for workshop:\n",
    " - should have a google account and a laptop\n",
    "\n",
    "- each section of the workshop has an associated notebook (coding environment) which will be shared with you via email\n",
    " \n",
    "- you will also need your cell phone to answer questions"
   ]
  },
  {
   "cell_type": "markdown",
   "metadata": {
    "colab_type": "text",
    "id": "0BEnrcPXt5-f"
   },
   "source": [
    "## When everyone has opened <font color=blue> \"intro to Python\"</font color> we will begin\n"
   ]
  }
 ],
 "metadata": {
  "colab": {
   "collapsed_sections": [],
   "default_view": {},
   "name": "1_introduction",
   "provenance": [
    {
     "file_id": "1B2kdhnm0KDZpANC2WT4lirXOxNHQ5FF2",
     "timestamp": 1530232572724
    }
   ],
   "version": "0.3.2",
   "views": {}
  },
  "kernelspec": {
   "display_name": "Python 3",
   "language": "python",
   "name": "python3"
  },
  "language_info": {
   "codemirror_mode": {
    "name": "ipython",
    "version": 3
   },
   "file_extension": ".py",
   "mimetype": "text/x-python",
   "name": "python",
   "nbconvert_exporter": "python",
   "pygments_lexer": "ipython3",
   "version": "3.7.1"
  }
 },
 "nbformat": 4,
 "nbformat_minor": 4
}
