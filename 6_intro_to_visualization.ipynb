{
 "cells": [
  {
   "cell_type": "markdown",
   "metadata": {
    "colab_type": "text",
    "id": "aGisXFdYMo0k"
   },
   "source": [
    "\n",
    "![alt text](https://www.anaconda.com/wp-content/uploads/2019/01/PythonVisLandscape.jpg)\n",
    "\n"
   ]
  },
  {
   "cell_type": "markdown",
   "metadata": {
    "colab_type": "text",
    "id": "5Cz-IldLdyyO"
   },
   "source": [
    "## What is an API?\n",
    "- application protocol interface\n",
    "- basically, the commands needed to use a program\n",
    "- for example, you already learned the Pandas API\n",
    "- some APIs are powerful but require a lot of code to use (imperative style)\n",
    "- others require far less code and may sacrifice some capabilities in favor of ease-of-use (declaritive)\n"
   ]
  },
  {
   "cell_type": "markdown",
   "metadata": {
    "colab_type": "text",
    "id": "2Vc6xy00sto3"
   },
   "source": [
    "## Some concepts to keep in mind\n",
    "\n",
    "- how much code is needed for basic charts?\n",
    "- imperative vs declaritive\n",
    "- am I building a final chart, or exploring my data first?\n",
    "- you can't really separate data cleaning from data viz\n",
    " - therefore, you should be able to seamlessly go between thoses stages\n",
    " - how well does the visualization library work with my data wrangling libraries?\n",
    " \n",
    "  \n",
    "  --- \n",
    "  \n",
    "  \n",
    "- how are interactions specified?\n",
    "- interactions are not always needed and can make charts harder to understand\n",
    "- just like a static chart, interactions can be done \"wrong\" (sub optimally)\n",
    "- there is a high probability that no one will even use the interactions ([see here](https://medium.com/@dominikus/the-end-of-interactive-visualizations-52c585dcafcb))\n",
    "- interactions do not make up for poorly designed charts\n",
    "- interactions should not be done for interaction's sake\n",
    " - instead use them to enhance or strategically reveal different views of the data\n",
    "   \n"
   ]
  },
  {
   "cell_type": "markdown",
   "metadata": {
    "colab_type": "text",
    "id": "583BKNh9hFKL"
   },
   "source": [
    "## Grammar of Graphics\n",
    "\n",
    "- a common language for specifying how to map raw data to visual properties on a chart\n",
    "- thinking about charts as simply a composition set of geometric shapes, scales, domains, and axes\n",
    " - can lead to consise APIs since many charts share a common grammar\n",
    "- in contrast to charts as being class-based (bar chart, histogram, pie, stacked bar, scatter, etc...)\n",
    " - can lead to verbose APIs"
   ]
  },
  {
   "cell_type": "markdown",
   "metadata": {
    "colab_type": "text",
    "id": "gZgOVZPCnFdI"
   },
   "source": [
    "## Some amazing visualization libraries\n",
    "\n",
    "<a href=\"https://matplotlib.org/gallery/index.html\"><img src=\"https://matplotlib.org/_static/logo2.png\" width=\"300\" height=\"75\" /></a>\n",
    "\n",
    "- can make any visualization you can imagine\n",
    "- imperative coding style\n",
    "- powerful but verbose\n",
    "- no interactions\n",
    "\n",
    "<a href=\"https://plot.ly/python/\"><img src=\"https://upload.wikimedia.org/wikipedia/commons/thumb/3/37/Plotly-logo-01-square.png/220px-Plotly-logo-01-square.png\" width=\"150\" /></a>\n",
    "\n",
    "- great for interactive charts\n",
    "- a bit verbose\n",
    "- works with multiple languages\n",
    "- images are rendered on a server\n",
    "- licensing options\n",
    "\n",
    "<a href=\"https://bokeh.pydata.org/en/latest/docs/gallery.html#\"><img src=\"https://www.fullstackpython.com/img/logos/bokeh.jpg\" width=\"250\" /></a>\n",
    "\n",
    "- similar to plotly\n",
    "- can incorporate widgets (slider bars, dropdown menues, etc)\n",
    "- streaming data is possible\n",
    "- verbose for interactions\n",
    "\n",
    "\n",
    "<a href=\"https://altair-viz.github.io/gallery/index.html\"><img src=\"https://altair-viz.github.io/_static/altair-logo-light.png\" width=\"170\" /></a>\n",
    "\n",
    "- declarative coding style using a \"grammar of graphics\"\n",
    "- code for static and interactive charts is consise\n",
    "- free to use\n",
    "- a new library that is still being documented\n",
    "- not considered as \"powerful\" as Matplotlib in terms of the kinds of charts you can make\n",
    "-  with Altair you specify *what* you want, and you let the program decide automatically *how* to make it happen"
   ]
  }
 ],
 "metadata": {
  "colab": {
   "collapsed_sections": [],
   "name": "6_intro_to_visualization",
   "provenance": [
    {
     "file_id": "1B2kdhnm0KDZpANC2WT4lirXOxNHQ5FF2",
     "timestamp": 1530232572724
    }
   ],
   "version": "0.3.2"
  },
  "kernelspec": {
   "display_name": "Python 3",
   "language": "python",
   "name": "python3"
  },
  "language_info": {
   "codemirror_mode": {
    "name": "ipython",
    "version": 3
   },
   "file_extension": ".py",
   "mimetype": "text/x-python",
   "name": "python",
   "nbconvert_exporter": "python",
   "pygments_lexer": "ipython3",
   "version": "3.7.1"
  }
 },
 "nbformat": 4,
 "nbformat_minor": 4
}
