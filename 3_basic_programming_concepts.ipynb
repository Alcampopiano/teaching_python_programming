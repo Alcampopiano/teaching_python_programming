{
 "cells": [
  {
   "cell_type": "markdown",
   "metadata": {
    "colab_type": "text",
    "id": "aGisXFdYMo0k"
   },
   "source": [
    "\n",
    "![alt text](https://upload.wikimedia.org/wikipedia/commons/c/c3/Python-logo-notext.svg)\n",
    "\n",
    "# Basic programming concepts\n",
    "- “Do this; then do that.”\n",
    "- “If this condition is true, perform this action; otherwise, do that action.”\n",
    "- “Do this action a certain number of times.”\n",
    "- “Keep doing an action until this condition is true.”\n",
    "\n",
    "## Data types \n",
    "1. numbers (integers, floats)\n",
    "- strings (anything inside of quotes, usually a word)\n",
    "- lists (collection of numbers or strings)\n",
    "- dictionary (a collection of key-value pairs)\n",
    "\n",
    "## Control flow\n",
    "1. \"IF\" statements\n",
    "- \"AND\" and \"OR\" operators\n",
    "\n",
    "## Iterating\n",
    "1. \"for\" loop\n",
    "- \"while\" loop\n",
    "\n"
   ]
  },
  {
   "cell_type": "markdown",
   "metadata": {
    "colab_type": "text",
    "id": "pnLaBJ4VnWFQ"
   },
   "source": [
    "## Printing numbers\n",
    "- including calculations (+, -, /, \\*,\\** )"
   ]
  },
  {
   "cell_type": "code",
   "execution_count": null,
   "metadata": {
    "colab": {
     "base_uri": "https://localhost:8080/",
     "height": 34
    },
    "colab_type": "code",
    "executionInfo": {
     "elapsed": 256,
     "status": "ok",
     "timestamp": 1533305540870,
     "user": {
      "displayName": "Allan Campopiano",
      "photoUrl": "//lh6.googleusercontent.com/-jajm12wFRU4/AAAAAAAAAAI/AAAAAAAAAws/b_aS-B759i4/s50-c-k-no/photo.jpg",
      "userId": "113962595821525423496"
     },
     "user_tz": 240
    },
    "id": "0cxVwSc12PZ1",
    "outputId": "8e692e71-8551-4eaf-bbb7-3dac396bcd3c"
   },
   "outputs": [
    {
     "name": "stdout",
     "output_type": "stream",
     "text": [
      "1\n"
     ]
    }
   ],
   "source": [
    "print(1)"
   ]
  },
  {
   "cell_type": "code",
   "execution_count": null,
   "metadata": {
    "colab": {
     "base_uri": "https://localhost:8080/",
     "height": 34
    },
    "colab_type": "code",
    "executionInfo": {
     "elapsed": 493,
     "status": "ok",
     "timestamp": 1533305544968,
     "user": {
      "displayName": "Allan Campopiano",
      "photoUrl": "//lh6.googleusercontent.com/-jajm12wFRU4/AAAAAAAAAAI/AAAAAAAAAws/b_aS-B759i4/s50-c-k-no/photo.jpg",
      "userId": "113962595821525423496"
     },
     "user_tz": 240
    },
    "id": "0j3xF1OZ2Q19",
    "outputId": "fa3036dd-acb8-4d3c-df0a-2a5e838723dc"
   },
   "outputs": [
    {
     "name": "stdout",
     "output_type": "stream",
     "text": [
      "2\n"
     ]
    }
   ],
   "source": [
    "print(1+1)"
   ]
  },
  {
   "cell_type": "code",
   "execution_count": null,
   "metadata": {
    "colab": {
     "base_uri": "https://localhost:8080/",
     "height": 34
    },
    "colab_type": "code",
    "executionInfo": {
     "elapsed": 234,
     "status": "ok",
     "timestamp": 1533305550097,
     "user": {
      "displayName": "Allan Campopiano",
      "photoUrl": "//lh6.googleusercontent.com/-jajm12wFRU4/AAAAAAAAAAI/AAAAAAAAAws/b_aS-B759i4/s50-c-k-no/photo.jpg",
      "userId": "113962595821525423496"
     },
     "user_tz": 240
    },
    "id": "y8aVgs1X2Sf-",
    "outputId": "b83e4e80-d061-4f3e-b488-9219370cc88c"
   },
   "outputs": [
    {
     "name": "stdout",
     "output_type": "stream",
     "text": [
      "3\n"
     ]
    }
   ],
   "source": [
    "print(1+2)"
   ]
  },
  {
   "cell_type": "code",
   "execution_count": null,
   "metadata": {
    "colab": {
     "base_uri": "https://localhost:8080/",
     "height": 34
    },
    "colab_type": "code",
    "executionInfo": {
     "elapsed": 228,
     "status": "ok",
     "timestamp": 1533305554367,
     "user": {
      "displayName": "Allan Campopiano",
      "photoUrl": "//lh6.googleusercontent.com/-jajm12wFRU4/AAAAAAAAAAI/AAAAAAAAAws/b_aS-B759i4/s50-c-k-no/photo.jpg",
      "userId": "113962595821525423496"
     },
     "user_tz": 240
    },
    "id": "vqVWKsxy2WRl",
    "outputId": "032a7baa-1764-4277-bf08-a6b1063906a8"
   },
   "outputs": [
    {
     "name": "stdout",
     "output_type": "stream",
     "text": [
      "4\n"
     ]
    }
   ],
   "source": [
    "print(2*2)"
   ]
  },
  {
   "cell_type": "code",
   "execution_count": null,
   "metadata": {
    "colab": {
     "base_uri": "https://localhost:8080/",
     "height": 34
    },
    "colab_type": "code",
    "executionInfo": {
     "elapsed": 236,
     "status": "ok",
     "timestamp": 1533305558441,
     "user": {
      "displayName": "Allan Campopiano",
      "photoUrl": "//lh6.googleusercontent.com/-jajm12wFRU4/AAAAAAAAAAI/AAAAAAAAAws/b_aS-B759i4/s50-c-k-no/photo.jpg",
      "userId": "113962595821525423496"
     },
     "user_tz": 240
    },
    "id": "EIk0VCRGnzOK",
    "outputId": "91a7243e-da30-420b-81cf-628efccf657b"
   },
   "outputs": [
    {
     "name": "stdout",
     "output_type": "stream",
     "text": [
      "8\n"
     ]
    }
   ],
   "source": [
    "print(2*2*2)"
   ]
  },
  {
   "cell_type": "code",
   "execution_count": null,
   "metadata": {
    "colab": {
     "base_uri": "https://localhost:8080/",
     "height": 34
    },
    "colab_type": "code",
    "executionInfo": {
     "elapsed": 252,
     "status": "ok",
     "timestamp": 1533305592037,
     "user": {
      "displayName": "Allan Campopiano",
      "photoUrl": "//lh6.googleusercontent.com/-jajm12wFRU4/AAAAAAAAAAI/AAAAAAAAAws/b_aS-B759i4/s50-c-k-no/photo.jpg",
      "userId": "113962595821525423496"
     },
     "user_tz": 240
    },
    "id": "mtdJ-wGPn1UM",
    "outputId": "9a205e69-98f1-457d-8b29-b8f838f6efb2"
   },
   "outputs": [
    {
     "name": "stdout",
     "output_type": "stream",
     "text": [
      "16\n"
     ]
    }
   ],
   "source": [
    "print(2**4)"
   ]
  },
  {
   "cell_type": "markdown",
   "metadata": {
    "colab_type": "text",
    "id": "t2-vEru7kvdq"
   },
   "source": [
    "## <font color=blue>What number will be printed out?</font>\n",
    "\n",
    "```python\n",
    "print(1+5/2*1)\n",
    "\n",
    "```"
   ]
  },
  {
   "cell_type": "markdown",
   "metadata": {
    "colab_type": "text",
    "id": "wwenaXIfuMSi"
   },
   "source": [
    "## Printing strings\n",
    "- strings are just characters that you don't want to use for math\n",
    "- always wrapped in single quotes\n",
    "\n",
    "```python\n",
    "'this is a string'\n",
    "```"
   ]
  },
  {
   "cell_type": "code",
   "execution_count": null,
   "metadata": {
    "colab": {
     "base_uri": "https://localhost:8080/",
     "height": 34
    },
    "colab_type": "code",
    "executionInfo": {
     "elapsed": 510,
     "status": "ok",
     "timestamp": 1531837604577,
     "user": {
      "displayName": "Allan Campopiano",
      "photoUrl": "//lh6.googleusercontent.com/-jajm12wFRU4/AAAAAAAAAAI/AAAAAAAAAws/b_aS-B759i4/s50-c-k-no/photo.jpg",
      "userId": "113962595821525423496"
     },
     "user_tz": 240
    },
    "id": "36v7H4iTuphp",
    "outputId": "66e5f362-1a7f-462d-c8ab-3c83ba34e667"
   },
   "outputs": [
    {
     "name": "stdout",
     "output_type": "stream",
     "text": [
      "this is a string\n"
     ]
    }
   ],
   "source": [
    "print('this is a string')"
   ]
  },
  {
   "cell_type": "code",
   "execution_count": null,
   "metadata": {
    "colab": {
     "base_uri": "https://localhost:8080/",
     "height": 34
    },
    "colab_type": "code",
    "executionInfo": {
     "elapsed": 229,
     "status": "ok",
     "timestamp": 1533305862678,
     "user": {
      "displayName": "Allan Campopiano",
      "photoUrl": "//lh6.googleusercontent.com/-jajm12wFRU4/AAAAAAAAAAI/AAAAAAAAAws/b_aS-B759i4/s50-c-k-no/photo.jpg",
      "userId": "113962595821525423496"
     },
     "user_tz": 240
    },
    "id": "NPisWeeDJPY_",
    "outputId": "d081bb82-13bb-4f13-e845-178c2b202c24"
   },
   "outputs": [
    {
     "data": {
      "text/plain": [
       "'\\nI\\'m cool said \"that guy\"\\n'"
      ]
     },
     "execution_count": 12,
     "metadata": {
      "tags": []
     },
     "output_type": "execute_result"
    }
   ],
   "source": [
    "\"\"\"\n",
    "I'm cool said \"that guy\"\n",
    "\"\"\""
   ]
  },
  {
   "cell_type": "code",
   "execution_count": null,
   "metadata": {
    "colab": {
     "base_uri": "https://localhost:8080/",
     "height": 34
    },
    "colab_type": "code",
    "executionInfo": {
     "elapsed": 557,
     "status": "ok",
     "timestamp": 1531837608608,
     "user": {
      "displayName": "Allan Campopiano",
      "photoUrl": "//lh6.googleusercontent.com/-jajm12wFRU4/AAAAAAAAAAI/AAAAAAAAAws/b_aS-B759i4/s50-c-k-no/photo.jpg",
      "userId": "113962595821525423496"
     },
     "user_tz": 240
    },
    "id": "zAqzL_FeusRq",
    "outputId": "763a6825-e060-412c-ec68-679ff869978d"
   },
   "outputs": [
    {
     "name": "stdout",
     "output_type": "stream",
     "text": [
      "my_string\n"
     ]
    }
   ],
   "source": [
    "print('my_string')"
   ]
  },
  {
   "cell_type": "code",
   "execution_count": null,
   "metadata": {
    "colab": {
     "base_uri": "https://localhost:8080/",
     "height": 34
    },
    "colab_type": "code",
    "executionInfo": {
     "elapsed": 228,
     "status": "ok",
     "timestamp": 1533305944766,
     "user": {
      "displayName": "Allan Campopiano",
      "photoUrl": "//lh6.googleusercontent.com/-jajm12wFRU4/AAAAAAAAAAI/AAAAAAAAAws/b_aS-B759i4/s50-c-k-no/photo.jpg",
      "userId": "113962595821525423496"
     },
     "user_tz": 240
    },
    "id": "vVkTl83yu1qZ",
    "outputId": "84f9ce8b-891e-4f6a-85b4-ab32e002ec9d"
   },
   "outputs": [
    {
     "name": "stdout",
     "output_type": "stream",
     "text": [
      "one_string 2_string\n"
     ]
    }
   ],
   "source": [
    "print('one_string', '2_string')"
   ]
  },
  {
   "cell_type": "code",
   "execution_count": null,
   "metadata": {
    "colab": {
     "base_uri": "https://localhost:8080/",
     "height": 34
    },
    "colab_type": "code",
    "executionInfo": {
     "elapsed": 213,
     "status": "ok",
     "timestamp": 1533305961603,
     "user": {
      "displayName": "Allan Campopiano",
      "photoUrl": "//lh6.googleusercontent.com/-jajm12wFRU4/AAAAAAAAAAI/AAAAAAAAAws/b_aS-B759i4/s50-c-k-no/photo.jpg",
      "userId": "113962595821525423496"
     },
     "user_tz": 240
    },
    "id": "fGQv4syfu7wi",
    "outputId": "366a26f4-b79e-490e-fc3a-cb2ff9320b77"
   },
   "outputs": [
    {
     "name": "stdout",
     "output_type": "stream",
     "text": [
      "Python\n"
     ]
    }
   ],
   "source": [
    "print('Py' + 'thon')"
   ]
  },
  {
   "cell_type": "code",
   "execution_count": null,
   "metadata": {
    "colab": {},
    "colab_type": "code",
    "id": "YUBzGA4PvJWT"
   },
   "outputs": [],
   "source": [
    "print('Py' + 'thon')"
   ]
  },
  {
   "cell_type": "code",
   "execution_count": null,
   "metadata": {
    "colab": {
     "base_uri": "https://localhost:8080/",
     "height": 34
    },
    "colab_type": "code",
    "executionInfo": {
     "elapsed": 229,
     "status": "ok",
     "timestamp": 1533305991285,
     "user": {
      "displayName": "Allan Campopiano",
      "photoUrl": "//lh6.googleusercontent.com/-jajm12wFRU4/AAAAAAAAAAI/AAAAAAAAAws/b_aS-B759i4/s50-c-k-no/photo.jpg",
      "userId": "113962595821525423496"
     },
     "user_tz": 240
    },
    "id": "vy-Fykeou5cS",
    "outputId": "cdef4728-3b0f-4acf-c7d4-70f42df59ccf"
   },
   "outputs": [
    {
     "name": "stdout",
     "output_type": "stream",
     "text": [
      "1 2\n"
     ]
    }
   ],
   "source": [
    "print('1', '2')"
   ]
  },
  {
   "cell_type": "code",
   "execution_count": null,
   "metadata": {
    "colab": {
     "base_uri": "https://localhost:8080/",
     "height": 34
    },
    "colab_type": "code",
    "executionInfo": {
     "elapsed": 427,
     "status": "ok",
     "timestamp": 1533306068351,
     "user": {
      "displayName": "Allan Campopiano",
      "photoUrl": "//lh6.googleusercontent.com/-jajm12wFRU4/AAAAAAAAAAI/AAAAAAAAAws/b_aS-B759i4/s50-c-k-no/photo.jpg",
      "userId": "113962595821525423496"
     },
     "user_tz": 240
    },
    "id": "No6I35b8vW76",
    "outputId": "e2eb3edb-cdbb-4af3-c1e8-07134d7f3af3"
   },
   "outputs": [
    {
     "name": "stdout",
     "output_type": "stream",
     "text": [
      "1 2 3\n"
     ]
    }
   ],
   "source": [
    "print('1', '2', '3')"
   ]
  },
  {
   "cell_type": "code",
   "execution_count": null,
   "metadata": {
    "colab": {
     "base_uri": "https://localhost:8080/",
     "height": 34
    },
    "colab_type": "code",
    "executionInfo": {
     "elapsed": 230,
     "status": "ok",
     "timestamp": 1533306012564,
     "user": {
      "displayName": "Allan Campopiano",
      "photoUrl": "//lh6.googleusercontent.com/-jajm12wFRU4/AAAAAAAAAAI/AAAAAAAAAws/b_aS-B759i4/s50-c-k-no/photo.jpg",
      "userId": "113962595821525423496"
     },
     "user_tz": 240
    },
    "id": "VUJCjELovap1",
    "outputId": "7666e7f0-a532-4183-b476-851460a2aac8"
   },
   "outputs": [
    {
     "name": "stdout",
     "output_type": "stream",
     "text": [
      "3\n"
     ]
    }
   ],
   "source": [
    "print(1 + 2)"
   ]
  },
  {
   "cell_type": "markdown",
   "metadata": {
    "colab_type": "text",
    "id": "pMErGeLWvg_j"
   },
   "source": [
    "## <font color=blue>When adding these strings together, what gets printed out?</font>\n",
    "\n",
    "\n",
    "```python\n",
    "print('1' + '2' + '3')\n",
    "\n",
    "A. 123\n",
    "B. 1 2 3\n",
    "C. 6\n",
    "D. 12 + 3\n",
    "```"
   ]
  },
  {
   "cell_type": "markdown",
   "metadata": {
    "colab_type": "text",
    "id": "kNwJXMrmoB2K"
   },
   "source": [
    "## Representing a value by a variable\n",
    "\n",
    "- this is a key concept in all of programming"
   ]
  },
  {
   "cell_type": "code",
   "execution_count": null,
   "metadata": {
    "colab": {
     "base_uri": "https://localhost:8080/",
     "height": 36
    },
    "colab_type": "code",
    "executionInfo": {
     "elapsed": 409,
     "status": "ok",
     "timestamp": 1533306096503,
     "user": {
      "displayName": "Allan Campopiano",
      "photoUrl": "//lh6.googleusercontent.com/-jajm12wFRU4/AAAAAAAAAAI/AAAAAAAAAws/b_aS-B759i4/s50-c-k-no/photo.jpg",
      "userId": "113962595821525423496"
     },
     "user_tz": 240
    },
    "id": "VvIxHqZizVEU",
    "outputId": "e8d3f78a-9d17-4a6b-bb3d-3effa66c8d89"
   },
   "outputs": [
    {
     "name": "stdout",
     "output_type": "stream",
     "text": [
      "1\n"
     ]
    }
   ],
   "source": [
    "x=1\n",
    "print(x)"
   ]
  },
  {
   "cell_type": "code",
   "execution_count": null,
   "metadata": {
    "colab": {
     "base_uri": "https://localhost:8080/",
     "height": 36
    },
    "colab_type": "code",
    "executionInfo": {
     "elapsed": 215,
     "status": "ok",
     "timestamp": 1533306234853,
     "user": {
      "displayName": "Allan Campopiano",
      "photoUrl": "//lh6.googleusercontent.com/-jajm12wFRU4/AAAAAAAAAAI/AAAAAAAAAws/b_aS-B759i4/s50-c-k-no/photo.jpg",
      "userId": "113962595821525423496"
     },
     "user_tz": 240
    },
    "id": "ND5cq4V31kL1",
    "outputId": "d09d8ce2-30fc-410e-f1f4-9c86e1ca5af0"
   },
   "outputs": [
    {
     "name": "stdout",
     "output_type": "stream",
     "text": [
      "1\n"
     ]
    }
   ],
   "source": [
    "a=1\n",
    "print(a)"
   ]
  },
  {
   "cell_type": "code",
   "execution_count": null,
   "metadata": {
    "colab": {
     "base_uri": "https://localhost:8080/",
     "height": 36
    },
    "colab_type": "code",
    "executionInfo": {
     "elapsed": 459,
     "status": "ok",
     "timestamp": 1533306247759,
     "user": {
      "displayName": "Allan Campopiano",
      "photoUrl": "//lh6.googleusercontent.com/-jajm12wFRU4/AAAAAAAAAAI/AAAAAAAAAws/b_aS-B759i4/s50-c-k-no/photo.jpg",
      "userId": "113962595821525423496"
     },
     "user_tz": 240
    },
    "id": "kIv_gGDy1ms0",
    "outputId": "c230847a-d9f8-4af0-e5b4-764906a11281"
   },
   "outputs": [
    {
     "name": "stdout",
     "output_type": "stream",
     "text": [
      "1\n"
     ]
    }
   ],
   "source": [
    "the_number_one=1\n",
    "print(the_number_one)"
   ]
  },
  {
   "cell_type": "code",
   "execution_count": null,
   "metadata": {
    "colab": {
     "base_uri": "https://localhost:8080/",
     "height": 34
    },
    "colab_type": "code",
    "executionInfo": {
     "elapsed": 682,
     "status": "ok",
     "timestamp": 1531837922972,
     "user": {
      "displayName": "Allan Campopiano",
      "photoUrl": "//lh6.googleusercontent.com/-jajm12wFRU4/AAAAAAAAAAI/AAAAAAAAAws/b_aS-B759i4/s50-c-k-no/photo.jpg",
      "userId": "113962595821525423496"
     },
     "user_tz": 240
    },
    "id": "aDgBl6Nj1ws8",
    "outputId": "1f7a9d42-b679-4f4f-9220-5c3bc519f0e8"
   },
   "outputs": [
    {
     "name": "stdout",
     "output_type": "stream",
     "text": [
      "1\n"
     ]
    }
   ],
   "source": [
    "bla_bla_bla=1\n",
    "print(bla_bla_bla)"
   ]
  },
  {
   "cell_type": "code",
   "execution_count": null,
   "metadata": {
    "colab": {
     "base_uri": "https://localhost:8080/",
     "height": 34
    },
    "colab_type": "code",
    "executionInfo": {
     "elapsed": 390,
     "status": "ok",
     "timestamp": 1531837927215,
     "user": {
      "displayName": "Allan Campopiano",
      "photoUrl": "//lh6.googleusercontent.com/-jajm12wFRU4/AAAAAAAAAAI/AAAAAAAAAws/b_aS-B759i4/s50-c-k-no/photo.jpg",
      "userId": "113962595821525423496"
     },
     "user_tz": 240
    },
    "id": "A3pVInyv1T90",
    "outputId": "7fbbaf42-c94a-4cbe-f765-7a4158d97c75"
   },
   "outputs": [
    {
     "name": "stdout",
     "output_type": "stream",
     "text": [
      "2\n"
     ]
    }
   ],
   "source": [
    "x=2\n",
    "print(x)"
   ]
  },
  {
   "cell_type": "code",
   "execution_count": null,
   "metadata": {
    "colab": {
     "base_uri": "https://localhost:8080/",
     "height": 36
    },
    "colab_type": "code",
    "executionInfo": {
     "elapsed": 220,
     "status": "ok",
     "timestamp": 1533306263495,
     "user": {
      "displayName": "Allan Campopiano",
      "photoUrl": "//lh6.googleusercontent.com/-jajm12wFRU4/AAAAAAAAAAI/AAAAAAAAAws/b_aS-B759i4/s50-c-k-no/photo.jpg",
      "userId": "113962595821525423496"
     },
     "user_tz": 240
    },
    "id": "jMlKPXYG0D-L",
    "outputId": "f86c1f4f-c1b0-4a77-e09d-1039f6b47530"
   },
   "outputs": [
    {
     "name": "stdout",
     "output_type": "stream",
     "text": [
      "I am writing code!\n"
     ]
    }
   ],
   "source": [
    "x='I am writing code!'\n",
    "print(x)"
   ]
  },
  {
   "cell_type": "code",
   "execution_count": null,
   "metadata": {
    "colab": {
     "base_uri": "https://localhost:8080/",
     "height": 34
    },
    "colab_type": "code",
    "executionInfo": {
     "elapsed": 427,
     "status": "ok",
     "timestamp": 1531837950296,
     "user": {
      "displayName": "Allan Campopiano",
      "photoUrl": "//lh6.googleusercontent.com/-jajm12wFRU4/AAAAAAAAAAI/AAAAAAAAAws/b_aS-B759i4/s50-c-k-no/photo.jpg",
      "userId": "113962595821525423496"
     },
     "user_tz": 240
    },
    "id": "GR9YrdXz0LjU",
    "outputId": "cd1215aa-5caa-4385-9942-6c6839247f2d"
   },
   "outputs": [
    {
     "name": "stdout",
     "output_type": "stream",
     "text": [
      "1 1\n"
     ]
    }
   ],
   "source": [
    "x=1\n",
    "y=1\n",
    "print(x,y)"
   ]
  },
  {
   "cell_type": "code",
   "execution_count": null,
   "metadata": {
    "colab": {
     "base_uri": "https://localhost:8080/",
     "height": 36
    },
    "colab_type": "code",
    "executionInfo": {
     "elapsed": 207,
     "status": "ok",
     "timestamp": 1533306271300,
     "user": {
      "displayName": "Allan Campopiano",
      "photoUrl": "//lh6.googleusercontent.com/-jajm12wFRU4/AAAAAAAAAAI/AAAAAAAAAws/b_aS-B759i4/s50-c-k-no/photo.jpg",
      "userId": "113962595821525423496"
     },
     "user_tz": 240
    },
    "id": "hhX8gVSd0QUc",
    "outputId": "0c2d4220-c6d8-4b0f-f489-0b7036cea371"
   },
   "outputs": [
    {
     "name": "stdout",
     "output_type": "stream",
     "text": [
      "I am writing code!\n"
     ]
    }
   ],
   "source": [
    "x='I am writing'\n",
    "y='code!'\n",
    "print(x,y)"
   ]
  },
  {
   "cell_type": "code",
   "execution_count": null,
   "metadata": {
    "colab": {
     "base_uri": "https://localhost:8080/",
     "height": 36
    },
    "colab_type": "code",
    "executionInfo": {
     "elapsed": 211,
     "status": "ok",
     "timestamp": 1533306286561,
     "user": {
      "displayName": "Allan Campopiano",
      "photoUrl": "//lh6.googleusercontent.com/-jajm12wFRU4/AAAAAAAAAAI/AAAAAAAAAws/b_aS-B759i4/s50-c-k-no/photo.jpg",
      "userId": "113962595821525423496"
     },
     "user_tz": 240
    },
    "id": "WeD9gOxz0cL-",
    "outputId": "db0e19e8-889f-42d2-e0be-020c975d05ee"
   },
   "outputs": [
    {
     "name": "stdout",
     "output_type": "stream",
     "text": [
      "2\n"
     ]
    }
   ],
   "source": [
    "x=1\n",
    "y=1\n",
    "print(x+y)"
   ]
  },
  {
   "cell_type": "code",
   "execution_count": null,
   "metadata": {
    "colab": {
     "base_uri": "https://localhost:8080/",
     "height": 36
    },
    "colab_type": "code",
    "executionInfo": {
     "elapsed": 288,
     "status": "ok",
     "timestamp": 1533306289239,
     "user": {
      "displayName": "Allan Campopiano",
      "photoUrl": "//lh6.googleusercontent.com/-jajm12wFRU4/AAAAAAAAAAI/AAAAAAAAAws/b_aS-B759i4/s50-c-k-no/photo.jpg",
      "userId": "113962595821525423496"
     },
     "user_tz": 240
    },
    "id": "ej-cHJ_00gdt",
    "outputId": "db191018-f9b1-4705-88a8-8cc7edfec703"
   },
   "outputs": [
    {
     "name": "stdout",
     "output_type": "stream",
     "text": [
      "3\n"
     ]
    }
   ],
   "source": [
    "x=1\n",
    "y=1\n",
    "z=1\n",
    "\n",
    "print(x+y+z)"
   ]
  },
  {
   "cell_type": "code",
   "execution_count": null,
   "metadata": {
    "colab": {},
    "colab_type": "code",
    "id": "eURS1sTX0vBF"
   },
   "outputs": [],
   "source": [
    "x=2\n",
    "y=3\n",
    "print(x*y)"
   ]
  },
  {
   "cell_type": "code",
   "execution_count": null,
   "metadata": {
    "colab": {},
    "colab_type": "code",
    "id": "1gY_H9LI1JZU"
   },
   "outputs": [],
   "source": [
    "x=10\n",
    "y=2\n",
    "print(x/y)"
   ]
  },
  {
   "cell_type": "code",
   "execution_count": null,
   "metadata": {
    "colab": {},
    "colab_type": "code",
    "id": "mHpFIigZ02sd"
   },
   "outputs": [],
   "source": [
    "x=1\n",
    "y='code!'\n",
    "print(x+y)"
   ]
  },
  {
   "cell_type": "code",
   "execution_count": null,
   "metadata": {
    "colab": {},
    "colab_type": "code",
    "id": "X7yUAhrpqSfH"
   },
   "outputs": [],
   "source": []
  },
  {
   "cell_type": "markdown",
   "metadata": {
    "colab_type": "text",
    "id": "0K6r6PSRH_Ep"
   },
   "source": [
    "## <font color=blue>What is the result of this expression?</font>\n",
    "\n",
    "```python\n",
    "a_snake='python'\n",
    "a_movie='Monte Python'\n",
    "print('Python is named after', a_movie)\n",
    "  ```"
   ]
  },
  {
   "cell_type": "code",
   "execution_count": null,
   "metadata": {
    "colab": {
     "base_uri": "https://localhost:8080/",
     "height": 36
    },
    "colab_type": "code",
    "executionInfo": {
     "elapsed": 221,
     "status": "ok",
     "timestamp": 1533306370580,
     "user": {
      "displayName": "Allan Campopiano",
      "photoUrl": "//lh6.googleusercontent.com/-jajm12wFRU4/AAAAAAAAAAI/AAAAAAAAAws/b_aS-B759i4/s50-c-k-no/photo.jpg",
      "userId": "113962595821525423496"
     },
     "user_tz": 240
    },
    "id": "djqfMHZ2ouQ0",
    "outputId": "bfd21008-eca4-47b6-809d-9a27ad5ca516"
   },
   "outputs": [
    {
     "name": "stdout",
     "output_type": "stream",
     "text": [
      "2 4 8 16 32\n"
     ]
    }
   ],
   "source": [
    "print(2,2*2,2*2*2,2*2*2*2,2*2*2*2*2)"
   ]
  },
  {
   "cell_type": "code",
   "execution_count": null,
   "metadata": {
    "colab": {
     "base_uri": "https://localhost:8080/",
     "height": 36
    },
    "colab_type": "code",
    "executionInfo": {
     "elapsed": 226,
     "status": "ok",
     "timestamp": 1533306436598,
     "user": {
      "displayName": "Allan Campopiano",
      "photoUrl": "//lh6.googleusercontent.com/-jajm12wFRU4/AAAAAAAAAAI/AAAAAAAAAws/b_aS-B759i4/s50-c-k-no/photo.jpg",
      "userId": "113962595821525423496"
     },
     "user_tz": 240
    },
    "id": "VATl01pjo8J7",
    "outputId": "b58a8d43-a1f1-4cd1-dbc8-2c9f877a3aa2"
   },
   "outputs": [
    {
     "name": "stdout",
     "output_type": "stream",
     "text": [
      "2 4 8 16 32\n"
     ]
    }
   ],
   "source": [
    "x=2\n",
    "print(x,x*x,x*x*x,x*x*x*x,x*x*x*x*x)"
   ]
  },
  {
   "cell_type": "code",
   "execution_count": null,
   "metadata": {
    "colab": {
     "base_uri": "https://localhost:8080/",
     "height": 36
    },
    "colab_type": "code",
    "executionInfo": {
     "elapsed": 325,
     "status": "ok",
     "timestamp": 1533306441405,
     "user": {
      "displayName": "Allan Campopiano",
      "photoUrl": "//lh6.googleusercontent.com/-jajm12wFRU4/AAAAAAAAAAI/AAAAAAAAAws/b_aS-B759i4/s50-c-k-no/photo.jpg",
      "userId": "113962595821525423496"
     },
     "user_tz": 240
    },
    "id": "YdqgOd0QpGH0",
    "outputId": "d8c26360-e638-48a5-d0f1-508c91c3311b"
   },
   "outputs": [
    {
     "name": "stdout",
     "output_type": "stream",
     "text": [
      "4 16 64 256 1024\n"
     ]
    }
   ],
   "source": [
    "x=4\n",
    "print(x,x*x,x*x*x,x*x*x*x,x*x*x*x*x)"
   ]
  },
  {
   "cell_type": "markdown",
   "metadata": {
    "colab_type": "text",
    "id": "AwLLls7ppsGu"
   },
   "source": [
    "## <font color=blue>Why do we use variable names instead of just writing the actual value?</font>\n",
    "\n",
    "```\n",
    "A. it makes the code more reusable\n",
    "B. it can the code shorter\n",
    "C. it is a way of showing how smart you are\n",
    "D. so people can't hack your code\n",
    "E. it makes the code less prone to typos\n",
    "F. A, B, and E\n",
    "G. A and E\n",
    "  ```"
   ]
  },
  {
   "cell_type": "markdown",
   "metadata": {
    "colab_type": "text",
    "id": "r-FIBAC3fKDn"
   },
   "source": [
    "## 3. Lists\n",
    "- collections of number of items"
   ]
  },
  {
   "cell_type": "code",
   "execution_count": null,
   "metadata": {
    "colab": {
     "base_uri": "https://localhost:8080/",
     "height": 36
    },
    "colab_type": "code",
    "executionInfo": {
     "elapsed": 258,
     "status": "ok",
     "timestamp": 1533306565182,
     "user": {
      "displayName": "Allan Campopiano",
      "photoUrl": "//lh6.googleusercontent.com/-jajm12wFRU4/AAAAAAAAAAI/AAAAAAAAAws/b_aS-B759i4/s50-c-k-no/photo.jpg",
      "userId": "113962595821525423496"
     },
     "user_tz": 240
    },
    "id": "u91AxCJAfZz_",
    "outputId": "06ba255c-a104-43be-89c0-7904631a7bf8"
   },
   "outputs": [
    {
     "name": "stdout",
     "output_type": "stream",
     "text": [
      "['Jenn', 'Zoe', 'Lisa']\n"
     ]
    }
   ],
   "source": [
    "a=['Jenn', 'Zoe', 'Lisa']\n",
    "print(a)"
   ]
  },
  {
   "cell_type": "code",
   "execution_count": null,
   "metadata": {
    "colab": {
     "base_uri": "https://localhost:8080/",
     "height": 36
    },
    "colab_type": "code",
    "executionInfo": {
     "elapsed": 223,
     "status": "ok",
     "timestamp": 1533306577608,
     "user": {
      "displayName": "Allan Campopiano",
      "photoUrl": "//lh6.googleusercontent.com/-jajm12wFRU4/AAAAAAAAAAI/AAAAAAAAAws/b_aS-B759i4/s50-c-k-no/photo.jpg",
      "userId": "113962595821525423496"
     },
     "user_tz": 240
    },
    "id": "AOzTTnNJfjSX",
    "outputId": "8f2763f4-1a71-4f51-e846-3c6670d83dd3"
   },
   "outputs": [
    {
     "name": "stdout",
     "output_type": "stream",
     "text": [
      "['Jenn', 'Zoe', 'Lisa', 1200]\n"
     ]
    }
   ],
   "source": [
    "a=['Jenn', 'Zoe', 'Lisa', 1200]\n",
    "print(a)"
   ]
  },
  {
   "cell_type": "code",
   "execution_count": null,
   "metadata": {
    "colab": {
     "base_uri": "https://localhost:8080/",
     "height": 36
    },
    "colab_type": "code",
    "executionInfo": {
     "elapsed": 249,
     "status": "ok",
     "timestamp": 1533306586416,
     "user": {
      "displayName": "Allan Campopiano",
      "photoUrl": "//lh6.googleusercontent.com/-jajm12wFRU4/AAAAAAAAAAI/AAAAAAAAAws/b_aS-B759i4/s50-c-k-no/photo.jpg",
      "userId": "113962595821525423496"
     },
     "user_tz": 240
    },
    "id": "2aiaHxGUm3yt",
    "outputId": "13bfcc74-c4d7-4181-b482-4f763131dad5"
   },
   "outputs": [
    {
     "name": "stdout",
     "output_type": "stream",
     "text": [
      "['Jenn', 'Zoe', 'Lisa', ['this', 'is', 'another', 'list']]\n"
     ]
    }
   ],
   "source": [
    "a=['Jenn', 'Zoe', 'Lisa', ['this', 'is', 'another', 'list']]\n",
    "print(a)"
   ]
  },
  {
   "cell_type": "code",
   "execution_count": null,
   "metadata": {
    "colab": {
     "base_uri": "https://localhost:8080/",
     "height": 36
    },
    "colab_type": "code",
    "executionInfo": {
     "elapsed": 275,
     "status": "ok",
     "timestamp": 1533306689518,
     "user": {
      "displayName": "Allan Campopiano",
      "photoUrl": "//lh6.googleusercontent.com/-jajm12wFRU4/AAAAAAAAAAI/AAAAAAAAAws/b_aS-B759i4/s50-c-k-no/photo.jpg",
      "userId": "113962595821525423496"
     },
     "user_tz": 240
    },
    "id": "_RktfQkSf0e4",
    "outputId": "a8e6f38a-6f81-472d-b119-343addae83ff"
   },
   "outputs": [
    {
     "name": "stdout",
     "output_type": "stream",
     "text": [
      "['Jenn', 'Zoe', 'Lisa', 'Al']\n"
     ]
    }
   ],
   "source": [
    "a=['Jenn', 'Zoe', 'Lisa']\n",
    "b=['Al']\n",
    "print(a+b)"
   ]
  },
  {
   "cell_type": "code",
   "execution_count": null,
   "metadata": {
    "colab": {},
    "colab_type": "code",
    "id": "0FdPfj0QM5iq"
   },
   "outputs": [],
   "source": [
    "['hello', 'marie']*40"
   ]
  },
  {
   "cell_type": "code",
   "execution_count": null,
   "metadata": {
    "colab": {
     "base_uri": "https://localhost:8080/",
     "height": 34
    },
    "colab_type": "code",
    "executionInfo": {
     "elapsed": 583,
     "status": "ok",
     "timestamp": 1531839223118,
     "user": {
      "displayName": "Allan Campopiano",
      "photoUrl": "//lh6.googleusercontent.com/-jajm12wFRU4/AAAAAAAAAAI/AAAAAAAAAws/b_aS-B759i4/s50-c-k-no/photo.jpg",
      "userId": "113962595821525423496"
     },
     "user_tz": 240
    },
    "id": "Xg0TyrsFu2KG",
    "outputId": "12622edf-abef-4f12-86f2-e49da7f047d3"
   },
   "outputs": [
    {
     "data": {
      "text/plain": [
       "'asdfasdf'"
      ]
     },
     "execution_count": 34,
     "metadata": {
      "tags": []
     },
     "output_type": "execute_result"
    }
   ],
   "source": [
    "'asdfasdf'"
   ]
  },
  {
   "cell_type": "markdown",
   "metadata": {
    "colab_type": "text",
    "id": "jFs1HxvvmfQL"
   },
   "source": [
    "## <font color=blue>What can you put inside of a list?</font>"
   ]
  },
  {
   "cell_type": "markdown",
   "metadata": {
    "colab_type": "text",
    "id": "X0wEm5rYFcJn"
   },
   "source": [
    "## Slicing strings and lists\n",
    "\n",
    "- accessing a particular item in a list or string\n",
    "- uses square brackets\n",
    "- starts at zero"
   ]
  },
  {
   "cell_type": "code",
   "execution_count": null,
   "metadata": {
    "colab": {
     "base_uri": "https://localhost:8080/",
     "height": 35
    },
    "colab_type": "code",
    "executionInfo": {
     "elapsed": 269,
     "status": "ok",
     "timestamp": 1533307050461,
     "user": {
      "displayName": "Allan Campopiano",
      "photoUrl": "//lh6.googleusercontent.com/-jajm12wFRU4/AAAAAAAAAAI/AAAAAAAAAws/b_aS-B759i4/s50-c-k-no/photo.jpg",
      "userId": "113962595821525423496"
     },
     "user_tz": 240
    },
    "id": "LmCtqS7uFMGY",
    "outputId": "50a4b460-b427-4578-ea85-4ea84d746004"
   },
   "outputs": [
    {
     "data": {
      "text/plain": [
       "'h'"
      ]
     },
     "execution_count": 44,
     "metadata": {
      "tags": []
     },
     "output_type": "execute_result"
    }
   ],
   "source": [
    "a='hello'\n",
    "a[0]"
   ]
  },
  {
   "cell_type": "code",
   "execution_count": null,
   "metadata": {
    "colab": {
     "base_uri": "https://localhost:8080/",
     "height": 35
    },
    "colab_type": "code",
    "executionInfo": {
     "elapsed": 276,
     "status": "ok",
     "timestamp": 1533307064158,
     "user": {
      "displayName": "Allan Campopiano",
      "photoUrl": "//lh6.googleusercontent.com/-jajm12wFRU4/AAAAAAAAAAI/AAAAAAAAAws/b_aS-B759i4/s50-c-k-no/photo.jpg",
      "userId": "113962595821525423496"
     },
     "user_tz": 240
    },
    "id": "J5b1L_XKFYly",
    "outputId": "f5e425a8-4fad-42ca-acc3-13c1eac46569"
   },
   "outputs": [
    {
     "data": {
      "text/plain": [
       "'e'"
      ]
     },
     "execution_count": 45,
     "metadata": {
      "tags": []
     },
     "output_type": "execute_result"
    }
   ],
   "source": [
    "a='hello'\n",
    "a[1]"
   ]
  },
  {
   "cell_type": "code",
   "execution_count": null,
   "metadata": {
    "colab": {
     "base_uri": "https://localhost:8080/",
     "height": 35
    },
    "colab_type": "code",
    "executionInfo": {
     "elapsed": 468,
     "status": "ok",
     "timestamp": 1533307121987,
     "user": {
      "displayName": "Allan Campopiano",
      "photoUrl": "//lh6.googleusercontent.com/-jajm12wFRU4/AAAAAAAAAAI/AAAAAAAAAws/b_aS-B759i4/s50-c-k-no/photo.jpg",
      "userId": "113962595821525423496"
     },
     "user_tz": 240
    },
    "id": "f0CCLpx56NG6",
    "outputId": "416697fb-7118-4444-f38f-bb3b553184bb"
   },
   "outputs": [
    {
     "data": {
      "text/plain": [
       "'he'"
      ]
     },
     "execution_count": 46,
     "metadata": {
      "tags": []
     },
     "output_type": "execute_result"
    }
   ],
   "source": [
    "a='hello'\n",
    "a[0:2]"
   ]
  },
  {
   "cell_type": "code",
   "execution_count": null,
   "metadata": {
    "colab": {
     "base_uri": "https://localhost:8080/",
     "height": 35
    },
    "colab_type": "code",
    "executionInfo": {
     "elapsed": 316,
     "status": "ok",
     "timestamp": 1533307168441,
     "user": {
      "displayName": "Allan Campopiano",
      "photoUrl": "//lh6.googleusercontent.com/-jajm12wFRU4/AAAAAAAAAAI/AAAAAAAAAws/b_aS-B759i4/s50-c-k-no/photo.jpg",
      "userId": "113962595821525423496"
     },
     "user_tz": 240
    },
    "id": "hsUlmmzr6SE5",
    "outputId": "5dec401a-29aa-4add-b064-b8a703e88ffd"
   },
   "outputs": [
    {
     "data": {
      "text/plain": [
       "'ello'"
      ]
     },
     "execution_count": 47,
     "metadata": {
      "tags": []
     },
     "output_type": "execute_result"
    }
   ],
   "source": [
    "a='hello'\n",
    "a[1:5]"
   ]
  },
  {
   "cell_type": "code",
   "execution_count": null,
   "metadata": {
    "colab": {},
    "colab_type": "code",
    "id": "UW6f2SfXGAEa"
   },
   "outputs": [],
   "source": [
    "a=['Jenn', 'Zoe', 'Lisa']\n",
    "a[2][3]"
   ]
  },
  {
   "cell_type": "code",
   "execution_count": null,
   "metadata": {
    "colab": {},
    "colab_type": "code",
    "id": "1GleJ5EuGIUC"
   },
   "outputs": [],
   "source": [
    "a=['Jenn', 'Zoe', 'Lisa']\n",
    "print(a[0], a[2])"
   ]
  },
  {
   "cell_type": "markdown",
   "metadata": {
    "colab_type": "text",
    "id": "dfUOgAni77z6"
   },
   "source": [
    "## <font color=blue>What is the correct way to slice this string so that we get the word \"Python\"</font>\n",
    "\n",
    "```python\n",
    "python='PPPPythonnnn'\n",
    "\n",
    "A. python[3:9]\n",
    "B. python[2:10]\n",
    "C. python[3:10]\n",
    "D. python[2:9]\n",
    "```"
   ]
  },
  {
   "cell_type": "markdown",
   "metadata": {
    "colab_type": "text",
    "id": "gXB9ZVRX9LEE"
   },
   "source": [
    "## <font color=blue>What is the correct way to slice this list so that we get the word \"Python\"?</font>\n",
    "\n",
    "```python\n",
    "languages=['Java', 'JavaScript', 'R', 'Python', 'Swift', 'Ruby']\n",
    "\n",
    "A. languages[2]\n",
    "B. languages[3]\n",
    "C. languages[4]\n",
    "D. languages[5]\n",
    "```"
   ]
  },
  {
   "cell_type": "markdown",
   "metadata": {
    "colab_type": "text",
    "id": "NvaGt0k-z3rP"
   },
   "source": [
    "## Dictionaries\n",
    "\n",
    "- looking up information based on some other information\n",
    "- key/value pairs\n",
    "- use the key to look up the value"
   ]
  },
  {
   "cell_type": "code",
   "execution_count": null,
   "metadata": {
    "colab": {},
    "colab_type": "code",
    "id": "vFQMM2Jg0I2Q"
   },
   "outputs": [],
   "source": [
    "a={'researchers': ['Al', 'Zoe', 'Lisa', 'Jenn'], 'IT': ['Grant', 'Martin', 'Ryan', 'Melba'], 'Spec Ed': ['Joanna', 'Spicer', 'Cherie']}\n",
    "print(a)"
   ]
  },
  {
   "cell_type": "code",
   "execution_count": null,
   "metadata": {
    "colab": {},
    "colab_type": "code",
    "id": "gmDuBUFg0zDp"
   },
   "outputs": [],
   "source": [
    "a['researchers']"
   ]
  },
  {
   "cell_type": "code",
   "execution_count": null,
   "metadata": {
    "colab": {},
    "colab_type": "code",
    "id": "leVlE0gk02F5"
   },
   "outputs": [],
   "source": [
    "a['IT']"
   ]
  },
  {
   "cell_type": "code",
   "execution_count": null,
   "metadata": {
    "colab": {},
    "colab_type": "code",
    "id": "uQ_jzy2-03k4"
   },
   "outputs": [],
   "source": [
    "a['Spec Ed']"
   ]
  },
  {
   "cell_type": "code",
   "execution_count": null,
   "metadata": {
    "colab": {},
    "colab_type": "code",
    "id": "kZMfaBT915op"
   },
   "outputs": [],
   "source": [
    "x={'number': 1, 'letter': 'A', 'empty_list': []}"
   ]
  },
  {
   "cell_type": "code",
   "execution_count": null,
   "metadata": {
    "colab": {},
    "colab_type": "code",
    "id": "mX5gZV5T2W7h"
   },
   "outputs": [],
   "source": [
    "x['number']"
   ]
  },
  {
   "cell_type": "code",
   "execution_count": null,
   "metadata": {
    "colab": {},
    "colab_type": "code",
    "id": "w7sCMhSl2XQp"
   },
   "outputs": [],
   "source": [
    "x['letter']"
   ]
  },
  {
   "cell_type": "code",
   "execution_count": null,
   "metadata": {
    "colab": {},
    "colab_type": "code",
    "id": "jJWT0U5r2Xwa"
   },
   "outputs": [],
   "source": [
    "x['empty_list']"
   ]
  },
  {
   "cell_type": "code",
   "execution_count": null,
   "metadata": {
    "colab": {},
    "colab_type": "code",
    "id": "KYrYmyqJ3Ewa"
   },
   "outputs": [],
   "source": [
    "research_list=['Jenn', 'Zoe', 'Lisa']\n",
    "IT_list=['Martin', 'Ryan', 'Grant']\n",
    "\n",
    "staff_dictionary={'research': research_list, 'IT': IT_list}\n",
    "\n",
    "print(staff_dictionary)"
   ]
  },
  {
   "cell_type": "markdown",
   "metadata": {
    "colab_type": "text",
    "id": "ir_PtSQe80Bm"
   },
   "source": [
    "## <font color=blue>Based on this information, which dictionary makes the most sense?</font>\n",
    "```python\n",
    "red_fruit=['apple', 'cherry']\n",
    "yellow_fruit=['banana', 'lemon']\n",
    "orange_fruit='orange'\n",
    "\n",
    "A. fruit={'red': red_fruit, 'green': orange_fruit}\n",
    "B. fruit={'red': red_fruit, 'yellow': yellow_fruit, 'orange': orange_fruit}\n",
    "C. fruit={'red': red_fruit, 'yellow': red_fruit, 'red_fruit': red}\n",
    "D. fruit={red_fruit: 'red', orange_fruit: 'orange', yellow_fruit: 'yellow'}\n",
    "\n",
    "```"
   ]
  },
  {
   "cell_type": "markdown",
   "metadata": {
    "colab_type": "text",
    "id": "dn2uku3Pjwoy"
   },
   "source": [
    "## IF statements\n",
    "- “If this condition is true, perform this action; otherwise, do that action.”"
   ]
  },
  {
   "cell_type": "code",
   "execution_count": null,
   "metadata": {
    "colab": {
     "base_uri": "https://localhost:8080/",
     "height": 36
    },
    "colab_type": "code",
    "executionInfo": {
     "elapsed": 438,
     "status": "ok",
     "timestamp": 1533308098887,
     "user": {
      "displayName": "Allan Campopiano",
      "photoUrl": "//lh6.googleusercontent.com/-jajm12wFRU4/AAAAAAAAAAI/AAAAAAAAAws/b_aS-B759i4/s50-c-k-no/photo.jpg",
      "userId": "113962595821525423496"
     },
     "user_tz": 240
    },
    "id": "dtKXNaSQjv_Z",
    "outputId": "9d334212-a0f2-4193-9440-4ea58f41ecdb"
   },
   "outputs": [
    {
     "name": "stdout",
     "output_type": "stream",
     "text": [
      "\"a\" is greater than zero\n"
     ]
    }
   ],
   "source": [
    "a=1\n",
    "\n",
    "if a > 0:\n",
    "  print('\"a\" is greater than zero')"
   ]
  },
  {
   "cell_type": "code",
   "execution_count": null,
   "metadata": {
    "colab": {},
    "colab_type": "code",
    "id": "R7kqNKAbkIo1"
   },
   "outputs": [],
   "source": [
    "a=1\n",
    "\n",
    "if a < 0:\n",
    "  print('\"a\" is greater than zero')"
   ]
  },
  {
   "cell_type": "code",
   "execution_count": null,
   "metadata": {
    "colab": {
     "base_uri": "https://localhost:8080/",
     "height": 36
    },
    "colab_type": "code",
    "executionInfo": {
     "elapsed": 247,
     "status": "ok",
     "timestamp": 1533308432472,
     "user": {
      "displayName": "Allan Campopiano",
      "photoUrl": "//lh6.googleusercontent.com/-jajm12wFRU4/AAAAAAAAAAI/AAAAAAAAAws/b_aS-B759i4/s50-c-k-no/photo.jpg",
      "userId": "113962595821525423496"
     },
     "user_tz": 240
    },
    "id": "nohxhvPLkTSp",
    "outputId": "7376ae99-ee99-4395-fb59-2966ff316ddd"
   },
   "outputs": [
    {
     "name": "stdout",
     "output_type": "stream",
     "text": [
      "none are true\n"
     ]
    }
   ],
   "source": [
    "a=-1\n",
    "\n",
    "if a > 0:\n",
    "  print('\"a\" is greater than zero')\n",
    "  \n",
    "elif a < -2:\n",
    "  print('\"a\" is less than zero')\n",
    "  \n",
    "else:\n",
    "  print('none are true')"
   ]
  },
  {
   "cell_type": "code",
   "execution_count": null,
   "metadata": {
    "colab": {},
    "colab_type": "code",
    "id": "RM6JBGtFT-bl"
   },
   "outputs": [],
   "source": [
    "a=-1\n",
    "\n",
    "if a > 0:\n",
    "  print('\"a\" is greater than zero')\n",
    "  \n",
    "if a < -2:\n",
    "  print('\"a\" is less than zero')\n",
    "  \n",
    "if a == 100:\n",
    "  print('none are true')"
   ]
  },
  {
   "cell_type": "code",
   "execution_count": null,
   "metadata": {
    "colab": {},
    "colab_type": "code",
    "id": "Td-NbR9qkhQV"
   },
   "outputs": [],
   "source": [
    "a=-1\n",
    "\n",
    "if a > 0:\n",
    "  print('\"a\" is greater than zero')\n",
    "  \n",
    "else:\n",
    "  print('\"a\" is less than zero')"
   ]
  },
  {
   "cell_type": "code",
   "execution_count": null,
   "metadata": {
    "colab": {},
    "colab_type": "code",
    "id": "0ZVIo3EDq-V9"
   },
   "outputs": [],
   "source": [
    "a=1\n",
    "b=2\n",
    "\n",
    "if a == b:\n",
    "  print('a is equal to b')\n",
    "  \n",
    "elif a>b:\n",
    "  a=a-1\n",
    "  \n",
    "else:\n",
    "  a=a+1\n",
    "  \n",
    "print(a)"
   ]
  },
  {
   "cell_type": "code",
   "execution_count": null,
   "metadata": {
    "colab": {
     "base_uri": "https://localhost:8080/",
     "height": 36
    },
    "colab_type": "code",
    "executionInfo": {
     "elapsed": 448,
     "status": "ok",
     "timestamp": 1533308666753,
     "user": {
      "displayName": "Allan Campopiano",
      "photoUrl": "//lh6.googleusercontent.com/-jajm12wFRU4/AAAAAAAAAAI/AAAAAAAAAws/b_aS-B759i4/s50-c-k-no/photo.jpg",
      "userId": "113962595821525423496"
     },
     "user_tz": 240
    },
    "id": "DXYy-6LDrvVs",
    "outputId": "bab9037a-db76-4604-b950-6cb07245ddc5"
   },
   "outputs": [
    {
     "name": "stdout",
     "output_type": "stream",
     "text": [
      "Al is not a researcher\n"
     ]
    }
   ],
   "source": [
    "researchers=['Jenn', 'Zoe', 'Lisa']\n",
    "\n",
    "if 'Al' in researchers:\n",
    "  print('Al is a researcher')\n",
    "  \n",
    "else:\n",
    "  print('Al is not a researcher')\n",
    "  "
   ]
  },
  {
   "cell_type": "code",
   "execution_count": null,
   "metadata": {
    "colab": {
     "base_uri": "https://localhost:8080/",
     "height": 36
    },
    "colab_type": "code",
    "executionInfo": {
     "elapsed": 239,
     "status": "ok",
     "timestamp": 1533308712316,
     "user": {
      "displayName": "Allan Campopiano",
      "photoUrl": "//lh6.googleusercontent.com/-jajm12wFRU4/AAAAAAAAAAI/AAAAAAAAAws/b_aS-B759i4/s50-c-k-no/photo.jpg",
      "userId": "113962595821525423496"
     },
     "user_tz": 240
    },
    "id": "80zfYC2OUZj9",
    "outputId": "a31206af-e14f-4406-9a12-a7a4ac42b609"
   },
   "outputs": [
    {
     "data": {
      "text/plain": [
       "False"
      ]
     },
     "execution_count": 67,
     "metadata": {
      "tags": []
     },
     "output_type": "execute_result"
    }
   ],
   "source": [
    "'jenn' in researchers"
   ]
  },
  {
   "cell_type": "code",
   "execution_count": null,
   "metadata": {
    "colab": {
     "base_uri": "https://localhost:8080/",
     "height": 36
    },
    "colab_type": "code",
    "executionInfo": {
     "elapsed": 244,
     "status": "ok",
     "timestamp": 1533308741902,
     "user": {
      "displayName": "Allan Campopiano",
      "photoUrl": "//lh6.googleusercontent.com/-jajm12wFRU4/AAAAAAAAAAI/AAAAAAAAAws/b_aS-B759i4/s50-c-k-no/photo.jpg",
      "userId": "113962595821525423496"
     },
     "user_tz": 240
    },
    "id": "zKyrV4u2sfV-",
    "outputId": "d2272ba9-4b51-4613-bd77-6ee201ce173c"
   },
   "outputs": [
    {
     "name": "stdout",
     "output_type": "stream",
     "text": [
      "['Jenn', 'Zoe', 'Lisa', 'Al']\n"
     ]
    }
   ],
   "source": [
    "researchers=['Jenn', 'Zoe', 'Lisa']\n",
    "\n",
    "if 'Al' not in researchers:\n",
    "  \n",
    "  researchers=researchers+['Al']\n",
    "  \n",
    "  print(researchers)"
   ]
  },
  {
   "cell_type": "markdown",
   "metadata": {
    "colab_type": "text",
    "id": "ktFLtWQY-2uW"
   },
   "source": [
    "## <font color=blue>What will be printed out after this \"IF\" statement?</font>\n",
    "\n",
    "```python\n",
    "research_list=['Jenn', 'Zoe', 'Lisa']\n",
    "IT_list=['Martin', 'Ryan', 'Grant']\n",
    "\n",
    "staff_dictionary={'research': research_list, 'IT': IT_list}\n",
    "\n",
    "if 'Al' in staff_dictionary['IT']:\n",
    "  print('found Allan in IT')\n",
    "\n",
    "elif 'Al' in staff_dictionary['research']:\n",
    "  print('found Allan in research')\n",
    "  \n",
    "else:\n",
    "  print('Allan not found')\n",
    "```"
   ]
  },
  {
   "cell_type": "markdown",
   "metadata": {
    "colab_type": "text",
    "id": "-ojxA3fu4lmL"
   },
   "source": [
    "## \"AND\" and \"OR\" operators\n",
    "- AKA \"&\" and \"|\" operators"
   ]
  },
  {
   "cell_type": "code",
   "execution_count": null,
   "metadata": {
    "colab": {},
    "colab_type": "code",
    "id": "Tb74NXOeAowP"
   },
   "outputs": [],
   "source": [
    "a=[1,2,3]\n",
    "b=[2,3,4]\n",
    "\n",
    "2 in a"
   ]
  },
  {
   "cell_type": "code",
   "execution_count": null,
   "metadata": {
    "colab": {},
    "colab_type": "code",
    "id": "lCYp8PSGA-m-"
   },
   "outputs": [],
   "source": [
    "2 in b"
   ]
  },
  {
   "cell_type": "code",
   "execution_count": null,
   "metadata": {
    "colab": {},
    "colab_type": "code",
    "id": "9RO0VuPaBAdX"
   },
   "outputs": [],
   "source": [
    "2 in a and 2 in b"
   ]
  },
  {
   "cell_type": "code",
   "execution_count": null,
   "metadata": {
    "colab": {},
    "colab_type": "code",
    "id": "Vz199W9wBGVn"
   },
   "outputs": [],
   "source": [
    "1 in a and 1 in b"
   ]
  },
  {
   "cell_type": "code",
   "execution_count": null,
   "metadata": {
    "colab": {},
    "colab_type": "code",
    "id": "tEgcqWEaBKUf"
   },
   "outputs": [],
   "source": [
    "if 2 in a and 2 in b:\n",
    "  print('found both numbers')"
   ]
  },
  {
   "cell_type": "code",
   "execution_count": null,
   "metadata": {
    "colab": {},
    "colab_type": "code",
    "id": "W0hzGK6Y4iYz"
   },
   "outputs": [],
   "source": [
    "research_list=['Jenn', 'Zoe', 'Lisa', 'Al']\n",
    "IT_list=['Martin', 'Ryan', 'Grant', 'Al']\n",
    "\n",
    "staff_dictionary={'research': research_list, 'IT': IT_list}\n",
    "\n",
    "if 'Al' in research_list and 'Al' in IT_list:\n",
    "  print('found Allan')\n",
    "  \n",
    "else:\n",
    "  print('Allan not found')"
   ]
  },
  {
   "cell_type": "code",
   "execution_count": null,
   "metadata": {
    "colab": {},
    "colab_type": "code",
    "id": "Mb9-PcMFBbon"
   },
   "outputs": [],
   "source": [
    "research_list=['Jenn', 'Zoe', 'Lisa', 'Al']\n",
    "IT_list=['Martin', 'Ryan', 'Grant']\n",
    "\n",
    "staff_dictionary={'research': research_list, 'IT': IT_list}\n",
    "\n",
    "if 'Al' in research_list or 'Al' in IT_list['research']:\n",
    "  print('found Allan')\n",
    "  \n",
    "else:\n",
    "  print('Allan not found')"
   ]
  },
  {
   "cell_type": "markdown",
   "metadata": {
    "colab_type": "text",
    "id": "gwRBca8ACU7Y"
   },
   "source": [
    "## <font color=blue>Based on this \"IF\" statement that uses the \"OR\" operator, what will be printed out?</font>\n",
    "\n",
    "\n",
    "```python\n",
    "staff_member='Lisa'\n",
    "staff_dictionary={'research': ['Jenn', 'Zoe', 'Lisa', 'Al'], 'IT': ['Martin', 'Ryan', 'Grant']}\n",
    "\n",
    "if staff_member in staff_dictionary['research'] or staff_member in staff_dictionary['IT']:\n",
    "  print(staff_member)\n",
    "  \n",
    "else:\n",
    "  print('did not find ' + staff_member)\n",
    "  ```"
   ]
  },
  {
   "cell_type": "markdown",
   "metadata": {
    "colab_type": "text",
    "id": "JfMj54iZh0Wn"
   },
   "source": [
    "## Boolean operators\n",
    "\n",
    "- True/False\n",
    "- 1/0"
   ]
  },
  {
   "cell_type": "code",
   "execution_count": null,
   "metadata": {
    "colab": {
     "base_uri": "https://localhost:8080/",
     "height": 36
    },
    "colab_type": "code",
    "executionInfo": {
     "elapsed": 236,
     "status": "ok",
     "timestamp": 1533308943641,
     "user": {
      "displayName": "Allan Campopiano",
      "photoUrl": "//lh6.googleusercontent.com/-jajm12wFRU4/AAAAAAAAAAI/AAAAAAAAAws/b_aS-B759i4/s50-c-k-no/photo.jpg",
      "userId": "113962595821525423496"
     },
     "user_tz": 240
    },
    "id": "GwN_1jPwiFEO",
    "outputId": "24fac44b-2dcc-44b7-a72a-53ae5aaa1232"
   },
   "outputs": [
    {
     "data": {
      "text/plain": [
       "True"
      ]
     },
     "execution_count": 72,
     "metadata": {
      "tags": []
     },
     "output_type": "execute_result"
    }
   ],
   "source": [
    "a=True\n",
    "b=1\n",
    "\n",
    "a==b"
   ]
  },
  {
   "cell_type": "code",
   "execution_count": null,
   "metadata": {
    "colab": {
     "base_uri": "https://localhost:8080/",
     "height": 36
    },
    "colab_type": "code",
    "executionInfo": {
     "elapsed": 245,
     "status": "ok",
     "timestamp": 1533308974979,
     "user": {
      "displayName": "Allan Campopiano",
      "photoUrl": "//lh6.googleusercontent.com/-jajm12wFRU4/AAAAAAAAAAI/AAAAAAAAAws/b_aS-B759i4/s50-c-k-no/photo.jpg",
      "userId": "113962595821525423496"
     },
     "user_tz": 240
    },
    "id": "ly4PV72tiKld",
    "outputId": "7dde0734-b738-4b00-c819-3664aa3b6edd"
   },
   "outputs": [
    {
     "data": {
      "text/plain": [
       "True"
      ]
     },
     "execution_count": 73,
     "metadata": {
      "tags": []
     },
     "output_type": "execute_result"
    }
   ],
   "source": [
    "a=False\n",
    "b=0\n",
    "\n",
    "a==b"
   ]
  },
  {
   "cell_type": "code",
   "execution_count": null,
   "metadata": {
    "colab": {
     "base_uri": "https://localhost:8080/",
     "height": 35
    },
    "colab_type": "code",
    "executionInfo": {
     "elapsed": 455,
     "status": "ok",
     "timestamp": 1531839902156,
     "user": {
      "displayName": "Allan Campopiano",
      "photoUrl": "//lh6.googleusercontent.com/-jajm12wFRU4/AAAAAAAAAAI/AAAAAAAAAws/b_aS-B759i4/s50-c-k-no/photo.jpg",
      "userId": "113962595821525423496"
     },
     "user_tz": 240
    },
    "id": "467Zq6sjiNwe",
    "outputId": "edc2f02e-1736-4262-85d9-d156467b1bc5"
   },
   "outputs": [
    {
     "data": {
      "text/plain": [
       "False"
      ]
     },
     "execution_count": 48,
     "metadata": {
      "tags": []
     },
     "output_type": "execute_result"
    }
   ],
   "source": [
    "a=True\n",
    "b=0\n",
    "\n",
    "a==b"
   ]
  },
  {
   "cell_type": "code",
   "execution_count": null,
   "metadata": {
    "colab": {},
    "colab_type": "code",
    "id": "ySqiHn3YkwOo"
   },
   "outputs": [],
   "source": [
    "a=1\n",
    "\n",
    "a==True"
   ]
  },
  {
   "cell_type": "code",
   "execution_count": null,
   "metadata": {
    "colab": {
     "base_uri": "https://localhost:8080/",
     "height": 36
    },
    "colab_type": "code",
    "executionInfo": {
     "elapsed": 284,
     "status": "ok",
     "timestamp": 1533309034154,
     "user": {
      "displayName": "Allan Campopiano",
      "photoUrl": "//lh6.googleusercontent.com/-jajm12wFRU4/AAAAAAAAAAI/AAAAAAAAAws/b_aS-B759i4/s50-c-k-no/photo.jpg",
      "userId": "113962595821525423496"
     },
     "user_tz": 240
    },
    "id": "-3tl3VbJk8m3",
    "outputId": "4154c230-c758-4497-b63e-1679623c0d4e"
   },
   "outputs": [
    {
     "data": {
      "text/plain": [
       "True"
      ]
     },
     "execution_count": 74,
     "metadata": {
      "tags": []
     },
     "output_type": "execute_result"
    }
   ],
   "source": [
    "a=True\n",
    "b=True\n",
    "\n",
    "a and b"
   ]
  },
  {
   "cell_type": "code",
   "execution_count": null,
   "metadata": {
    "colab": {
     "base_uri": "https://localhost:8080/",
     "height": 36
    },
    "colab_type": "code",
    "executionInfo": {
     "elapsed": 228,
     "status": "ok",
     "timestamp": 1533309068198,
     "user": {
      "displayName": "Allan Campopiano",
      "photoUrl": "//lh6.googleusercontent.com/-jajm12wFRU4/AAAAAAAAAAI/AAAAAAAAAws/b_aS-B759i4/s50-c-k-no/photo.jpg",
      "userId": "113962595821525423496"
     },
     "user_tz": 240
    },
    "id": "h3dsiaOClE14",
    "outputId": "889a34ef-9dff-4f43-c46b-0581d5f073e7"
   },
   "outputs": [
    {
     "data": {
      "text/plain": [
       "False"
      ]
     },
     "execution_count": 76,
     "metadata": {
      "tags": []
     },
     "output_type": "execute_result"
    }
   ],
   "source": [
    "a=True\n",
    "b=False\n",
    "\n",
    "a and b"
   ]
  },
  {
   "cell_type": "code",
   "execution_count": null,
   "metadata": {
    "colab": {
     "base_uri": "https://localhost:8080/",
     "height": 36
    },
    "colab_type": "code",
    "executionInfo": {
     "elapsed": 244,
     "status": "ok",
     "timestamp": 1533309075645,
     "user": {
      "displayName": "Allan Campopiano",
      "photoUrl": "//lh6.googleusercontent.com/-jajm12wFRU4/AAAAAAAAAAI/AAAAAAAAAws/b_aS-B759i4/s50-c-k-no/photo.jpg",
      "userId": "113962595821525423496"
     },
     "user_tz": 240
    },
    "id": "QQ3QNIVhlGh3",
    "outputId": "ab10a5e9-332e-4b42-ec50-5f0ccee8dab5"
   },
   "outputs": [
    {
     "data": {
      "text/plain": [
       "True"
      ]
     },
     "execution_count": 77,
     "metadata": {
      "tags": []
     },
     "output_type": "execute_result"
    }
   ],
   "source": [
    "a=True\n",
    "b=True\n",
    "\n",
    "a or b"
   ]
  },
  {
   "cell_type": "code",
   "execution_count": null,
   "metadata": {
    "colab": {
     "base_uri": "https://localhost:8080/",
     "height": 36
    },
    "colab_type": "code",
    "executionInfo": {
     "elapsed": 266,
     "status": "ok",
     "timestamp": 1533309857761,
     "user": {
      "displayName": "Allan Campopiano",
      "photoUrl": "//lh6.googleusercontent.com/-jajm12wFRU4/AAAAAAAAAAI/AAAAAAAAAws/b_aS-B759i4/s50-c-k-no/photo.jpg",
      "userId": "113962595821525423496"
     },
     "user_tz": 240
    },
    "id": "TORfMDO5WOET",
    "outputId": "847d0141-f293-4a79-eb25-557feca1d0e2"
   },
   "outputs": [
    {
     "name": "stdout",
     "output_type": "stream",
     "text": [
      "False\n"
     ]
    }
   ],
   "source": [
    "a=True\n",
    "b=False\n",
    "\n",
    "Teena='Researcher'\n",
    "Al='magician'\n",
    "\n",
    "if Teena == 'Researcher':\n",
    "  a=True\n",
    "  \n",
    "if Al == 'Researcher':\n",
    "  b=True \n",
    " \n",
    "\n",
    "print(a and b)"
   ]
  },
  {
   "cell_type": "code",
   "execution_count": null,
   "metadata": {
    "colab": {},
    "colab_type": "code",
    "id": "eL_0zrW4lJTE"
   },
   "outputs": [],
   "source": [
    "a=True\n",
    "b=False\n",
    "\n",
    "a or b"
   ]
  },
  {
   "cell_type": "code",
   "execution_count": null,
   "metadata": {
    "colab": {},
    "colab_type": "code",
    "id": "3jplkodTlUDv"
   },
   "outputs": [],
   "source": [
    "a=False\n",
    "b=False\n",
    "\n",
    "a or b"
   ]
  },
  {
   "cell_type": "code",
   "execution_count": null,
   "metadata": {
    "colab": {},
    "colab_type": "code",
    "id": "Q7vh9295iby1"
   },
   "outputs": [],
   "source": [
    "a=True\n",
    "not a"
   ]
  },
  {
   "cell_type": "code",
   "execution_count": null,
   "metadata": {
    "colab": {},
    "colab_type": "code",
    "id": "W121bRifiRsV"
   },
   "outputs": [],
   "source": [
    "a=True\n",
    "b=False\n",
    "\n",
    "a == (not b)"
   ]
  },
  {
   "cell_type": "code",
   "execution_count": null,
   "metadata": {
    "colab": {},
    "colab_type": "code",
    "id": "IWUETkPzjAsW"
   },
   "outputs": [],
   "source": [
    "a=True\n",
    "b=True\n",
    "\n",
    "(not (a or b)) == ((not a) and (not b))"
   ]
  },
  {
   "cell_type": "code",
   "execution_count": null,
   "metadata": {
    "colab": {},
    "colab_type": "code",
    "id": "hbkPPYITnZTZ"
   },
   "outputs": [],
   "source": [
    "flag=False\n",
    "\n",
    "total_absences=[1,3,7,10,9]\n",
    "\n",
    "if 10 in total_absences:\n",
    "  flag=True\n",
    "  \n",
    "print(flag)"
   ]
  },
  {
   "cell_type": "code",
   "execution_count": null,
   "metadata": {
    "colab": {},
    "colab_type": "code",
    "id": "jiGEKxfBoXX5"
   },
   "outputs": [],
   "source": [
    "list_of_bools=[True, False, True]\n",
    "type(list_of_bools)"
   ]
  },
  {
   "cell_type": "code",
   "execution_count": null,
   "metadata": {
    "colab": {},
    "colab_type": "code",
    "id": "HJmjQc3v2AN3"
   },
   "outputs": [],
   "source": [
    "type(list_of_bools[0])"
   ]
  },
  {
   "cell_type": "code",
   "execution_count": null,
   "metadata": {
    "colab": {},
    "colab_type": "code",
    "id": "x1rJI4W017au"
   },
   "outputs": [],
   "source": [
    "dictionary_with_bools={'key 1': True, 'key 2': False}\n",
    "type(dictionary_with_bools)"
   ]
  },
  {
   "cell_type": "code",
   "execution_count": null,
   "metadata": {
    "colab": {},
    "colab_type": "code",
    "id": "c-HsOZv-17MY"
   },
   "outputs": [],
   "source": [
    "type(dictionary_with_bools['key 2'])"
   ]
  },
  {
   "cell_type": "markdown",
   "metadata": {
    "colab_type": "text",
    "id": "VGeOylMD2ddG"
   },
   "source": [
    "## <font color=blue>Is the result of this expression True or False?</font>\n",
    "\n",
    "```python\n",
    "a=False\n",
    "b=False\n",
    "\n",
    "result=(a or b) and (a and b)\n",
    "\n",
    "print(result)\n",
    "\n",
    "```"
   ]
  },
  {
   "cell_type": "markdown",
   "metadata": {
    "colab_type": "text",
    "id": "z_pjhqCJEfG4"
   },
   "source": [
    "## \"for\" loops\n",
    "- used in almost every program\n",
    "- used to complete repetitive tasks\n",
    "- good when you know how many repetitions you need to do\n",
    "- python has very \"clean\" looking loops compared to other languages"
   ]
  },
  {
   "cell_type": "code",
   "execution_count": null,
   "metadata": {
    "colab": {
     "base_uri": "https://localhost:8080/",
     "height": 71
    },
    "colab_type": "code",
    "executionInfo": {
     "elapsed": 223,
     "status": "ok",
     "timestamp": 1533310039516,
     "user": {
      "displayName": "Allan Campopiano",
      "photoUrl": "//lh6.googleusercontent.com/-jajm12wFRU4/AAAAAAAAAAI/AAAAAAAAAws/b_aS-B759i4/s50-c-k-no/photo.jpg",
      "userId": "113962595821525423496"
     },
     "user_tz": 240
    },
    "id": "HOLhdX-BczPk",
    "outputId": "5c27e99d-78b5-43c1-cafd-97f429288656"
   },
   "outputs": [
    {
     "name": "stdout",
     "output_type": "stream",
     "text": [
      "item 1\n",
      "item 2\n",
      "item 3\n"
     ]
    }
   ],
   "source": [
    "list_of_items=['item 1', 'item 2', 'item 3']\n",
    "\n",
    "for item in list_of_items:\n",
    "  print(item)"
   ]
  },
  {
   "cell_type": "code",
   "execution_count": null,
   "metadata": {
    "colab": {
     "base_uri": "https://localhost:8080/",
     "height": 71
    },
    "colab_type": "code",
    "executionInfo": {
     "elapsed": 216,
     "status": "ok",
     "timestamp": 1533310157682,
     "user": {
      "displayName": "Allan Campopiano",
      "photoUrl": "//lh6.googleusercontent.com/-jajm12wFRU4/AAAAAAAAAAI/AAAAAAAAAws/b_aS-B759i4/s50-c-k-no/photo.jpg",
      "userId": "113962595821525423496"
     },
     "user_tz": 240
    },
    "id": "Vht6dMCRE3N5",
    "outputId": "c7329479-7d57-473d-e825-9a74cdc6ad76"
   },
   "outputs": [
    {
     "name": "stdout",
     "output_type": "stream",
     "text": [
      "Martin\n",
      "Ryan\n",
      "Grant\n"
     ]
    }
   ],
   "source": [
    "IT_staff_list=['Martin', 'Ryan', 'Grant']\n",
    "\n",
    "for names in IT_staff_list:\n",
    "  print(names)\n",
    "  "
   ]
  },
  {
   "cell_type": "code",
   "execution_count": null,
   "metadata": {
    "colab": {},
    "colab_type": "code",
    "id": "i-BJsScgbC8y"
   },
   "outputs": [],
   "source": [
    "all_my_numbers=[1,2,3,4,5]\n",
    "\n",
    "for number in all_my_numbers:\n",
    "  print(number)"
   ]
  },
  {
   "cell_type": "code",
   "execution_count": null,
   "metadata": {
    "colab": {
     "base_uri": "https://localhost:8080/",
     "height": 71
    },
    "colab_type": "code",
    "executionInfo": {
     "elapsed": 217,
     "status": "ok",
     "timestamp": 1533310316205,
     "user": {
      "displayName": "Allan Campopiano",
      "photoUrl": "//lh6.googleusercontent.com/-jajm12wFRU4/AAAAAAAAAAI/AAAAAAAAAws/b_aS-B759i4/s50-c-k-no/photo.jpg",
      "userId": "113962595821525423496"
     },
     "user_tz": 240
    },
    "id": "6uwlGmHqbbPP",
    "outputId": "237cca61-3fe9-4f27-c036-97bdcb50c50d"
   },
   "outputs": [
    {
     "name": "stdout",
     "output_type": "stream",
     "text": [
      "Martin makes 100\n",
      "Ryan makes 200\n",
      "Grant makes 300\n"
     ]
    }
   ],
   "source": [
    "IT_staff_list=['Martin', 'Ryan', 'Grant']\n",
    "staff_salary=0\n",
    "\n",
    "for person in IT_staff_list:\n",
    "  staff_salary=staff_salary+100\n",
    "  print(person, 'makes', staff_salary)"
   ]
  },
  {
   "cell_type": "code",
   "execution_count": null,
   "metadata": {
    "colab": {},
    "colab_type": "code",
    "id": "PK_15XYSbvyS"
   },
   "outputs": [],
   "source": [
    "IT_staff_list=['Martin', 'Ryan', 'Grant']\n",
    "my_total=0\n",
    "\n",
    "for person in IT_staff_list:\n",
    "  my_total+=1\n",
    "  \n",
    "print('there are', my_total, 'people in the list')"
   ]
  },
  {
   "cell_type": "code",
   "execution_count": null,
   "metadata": {
    "colab": {},
    "colab_type": "code",
    "id": "xem0km_Edi8j"
   },
   "outputs": [],
   "source": [
    "EQAO_scores=[1,2,2,3,4,2,1,4,4,3]\n",
    "sum_of_passing_scores=0\n",
    "\n",
    "for individual_score in EQAO_scores:\n",
    "  if individual_score >= 3:\n",
    "    sum_of_passing_scores+=1\n",
    "   \n",
    "print('there are', sum_of_passing_scores, \n",
    "      'people who were at or above the provicial average')"
   ]
  },
  {
   "cell_type": "code",
   "execution_count": null,
   "metadata": {
    "colab": {
     "base_uri": "https://localhost:8080/",
     "height": 71
    },
    "colab_type": "code",
    "executionInfo": {
     "elapsed": 258,
     "status": "ok",
     "timestamp": 1533310645573,
     "user": {
      "displayName": "Allan Campopiano",
      "photoUrl": "//lh6.googleusercontent.com/-jajm12wFRU4/AAAAAAAAAAI/AAAAAAAAAws/b_aS-B759i4/s50-c-k-no/photo.jpg",
      "userId": "113962595821525423496"
     },
     "user_tz": 240
    },
    "id": "gpPubO4oavGA",
    "outputId": "13fafe05-32a8-4d9f-8517-a820329d3a85"
   },
   "outputs": [
    {
     "name": "stdout",
     "output_type": "stream",
     "text": [
      "apples are red and have the texture smooth\n",
      "oranges are orange and have the texture bumpy\n",
      "lemons are yellow and have the texture also bumpy\n"
     ]
    }
   ],
   "source": [
    "fruits=['apples', 'oranges', 'lemons']\n",
    "colors=['red', 'orange', 'yellow']\n",
    "texture=['smooth', 'bumpy', 'also bumpy']\n",
    "\n",
    "# for i in range(len(fruits)):\n",
    "#   fruit=fruits[i]\n",
    "#   color=colors[i]\n",
    "#   print(fruit, 'are', color)\n",
    "  \n",
    "for fruit, color, text in zip(fruits, colors, texture):\n",
    "  print(fruit, 'are', color, 'and have the texture', text)\n",
    "  \n"
   ]
  },
  {
   "cell_type": "code",
   "execution_count": null,
   "metadata": {
    "colab": {},
    "colab_type": "code",
    "id": "1tVWe2yscHmu"
   },
   "outputs": [],
   "source": [
    "a=['hello']"
   ]
  },
  {
   "cell_type": "markdown",
   "metadata": {
    "colab_type": "text",
    "id": "h4Hpp0eD4Ygn"
   },
   "source": [
    "## <font color=blue>What will be printed when running this \"for\" loop?</font>\n",
    "\n",
    "```python\n",
    "sparse_list=[False, False, False, 100, False]\n",
    "\n",
    "for item in sparse_list:\n",
    "  if item not False\n",
    "    print(item)\n",
    "\n",
    "\n",
    "```"
   ]
  },
  {
   "cell_type": "markdown",
   "metadata": {
    "colab_type": "text",
    "id": "J2wYqeg3HHbS"
   },
   "source": [
    "## While loops\n",
    "\n",
    "- when you want to repeat something until something else happens\n",
    " - but you are not sure how many times to repeat the loop"
   ]
  },
  {
   "cell_type": "code",
   "execution_count": null,
   "metadata": {
    "colab": {},
    "colab_type": "code",
    "id": "9JdSmQHgHhMy"
   },
   "outputs": [],
   "source": [
    "x=False\n",
    "y=1\n",
    "print(y)\n",
    "\n",
    "while x == False:\n",
    "  y=y+1\n",
    "  if y == 100:\n",
    "    x=True\n",
    "    \n",
    "print(y)\n",
    "  "
   ]
  },
  {
   "cell_type": "code",
   "execution_count": null,
   "metadata": {
    "colab": {},
    "colab_type": "code",
    "id": "C8BgbjO9IBo9"
   },
   "outputs": [],
   "source": [
    "a = 0\t\t\n",
    "while a < 10:\t\n",
    "   a = a + 1\t\n",
    "   print(a)"
   ]
  },
  {
   "cell_type": "markdown",
   "metadata": {
    "colab_type": "text",
    "id": "AySe-VuTJxOO"
   },
   "source": [
    "## <font color=blue>Which scenario is most like a \"while\" loop?</font>"
   ]
  }
 ],
 "metadata": {
  "colab": {
   "collapsed_sections": [],
   "name": "3_basic_programming_concepts",
   "provenance": [
    {
     "file_id": "1B2kdhnm0KDZpANC2WT4lirXOxNHQ5FF2",
     "timestamp": 1530232572724
    }
   ],
   "version": "0.3.2"
  },
  "kernelspec": {
   "display_name": "Python 3",
   "language": "python",
   "name": "python3"
  },
  "language_info": {
   "codemirror_mode": {
    "name": "ipython",
    "version": 3
   },
   "file_extension": ".py",
   "mimetype": "text/x-python",
   "name": "python",
   "nbconvert_exporter": "python",
   "pygments_lexer": "ipython3",
   "version": "3.7.1"
  }
 },
 "nbformat": 4,
 "nbformat_minor": 4
}
