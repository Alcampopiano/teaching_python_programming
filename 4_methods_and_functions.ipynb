{
 "cells": [
  {
   "cell_type": "markdown",
   "metadata": {
    "colab_type": "text",
    "id": "aGisXFdYMo0k"
   },
   "source": [
    "\n",
    "![alt text](https://upload.wikimedia.org/wikipedia/commons/c/c3/Python-logo-notext.svg)\n",
    "\n",
    "# Methods and Functions\n",
    "\n",
    "- built-in ways of doing things\n",
    "- expressive\n",
    "- functions use parentheses, example:\n",
    "```python\n",
    " print('hello')\n",
    " ```\n",
    " \n",
    "- methods use the \"dot\", example:\n",
    " ```python\n",
    " file_name.replace('.', '_')\n",
    "  ```\n",
    "- methods and functions are basically the same kind of thing\n",
    "\n"
   ]
  },
  {
   "cell_type": "code",
   "execution_count": null,
   "metadata": {
    "colab": {
     "autoexec": {
      "startup": false,
      "wait_interval": 0
     }
    },
    "colab_type": "code",
    "id": "prBa4GSadV5j"
   },
   "outputs": [],
   "source": [
    "a='some string'\n",
    "a.replace()"
   ]
  },
  {
   "cell_type": "markdown",
   "metadata": {
    "colab_type": "text",
    "id": "_10GVSdH8JSb"
   },
   "source": [
    "## Basic functions\n",
    "\n",
    "- print()\n",
    "- len()\n",
    "- sum()\n",
    "- type()"
   ]
  },
  {
   "cell_type": "code",
   "execution_count": null,
   "metadata": {
    "colab": {
     "autoexec": {
      "startup": false,
      "wait_interval": 0
     },
     "base_uri": "https://localhost:8080/",
     "height": 34
    },
    "colab_type": "code",
    "executionInfo": {
     "elapsed": 522,
     "status": "ok",
     "timestamp": 1531841272418,
     "user": {
      "displayName": "Allan Campopiano",
      "photoUrl": "//lh6.googleusercontent.com/-jajm12wFRU4/AAAAAAAAAAI/AAAAAAAAAws/b_aS-B759i4/s50-c-k-no/photo.jpg",
      "userId": "113962595821525423496"
     },
     "user_tz": 240
    },
    "id": "coLgfOyL8aHj",
    "outputId": "f78c35c9-2843-4cfa-f659-6773189b53b2"
   },
   "outputs": [
    {
     "name": "stdout",
     "output_type": "stream",
     "text": [
      "1\n"
     ]
    }
   ],
   "source": [
    "a=1\n",
    "print(a)"
   ]
  },
  {
   "cell_type": "code",
   "execution_count": null,
   "metadata": {
    "colab": {
     "autoexec": {
      "startup": false,
      "wait_interval": 0
     }
    },
    "colab_type": "code",
    "id": "JOYMcsKn8fXb"
   },
   "outputs": [],
   "source": [
    "a='hello'\n",
    "print(a)"
   ]
  },
  {
   "cell_type": "code",
   "execution_count": null,
   "metadata": {
    "colab": {
     "autoexec": {
      "startup": false,
      "wait_interval": 0
     },
     "base_uri": "https://localhost:8080/",
     "height": 34
    },
    "colab_type": "code",
    "executionInfo": {
     "elapsed": 450,
     "status": "ok",
     "timestamp": 1531841295974,
     "user": {
      "displayName": "Allan Campopiano",
      "photoUrl": "//lh6.googleusercontent.com/-jajm12wFRU4/AAAAAAAAAAI/AAAAAAAAAws/b_aS-B759i4/s50-c-k-no/photo.jpg",
      "userId": "113962595821525423496"
     },
     "user_tz": 240
    },
    "id": "15-gzbHH8iMy",
    "outputId": "ba659bec-b4fd-4228-f6db-8b815838b430"
   },
   "outputs": [
    {
     "data": {
      "text/plain": [
       "6"
      ]
     },
     "execution_count": 3,
     "metadata": {
      "tags": []
     },
     "output_type": "execute_result"
    }
   ],
   "source": [
    "a='hellod'\n",
    "len(a)"
   ]
  },
  {
   "cell_type": "code",
   "execution_count": null,
   "metadata": {
    "colab": {
     "autoexec": {
      "startup": false,
      "wait_interval": 0
     },
     "base_uri": "https://localhost:8080/",
     "height": 34
    },
    "colab_type": "code",
    "executionInfo": {
     "elapsed": 325,
     "status": "ok",
     "timestamp": 1531841537081,
     "user": {
      "displayName": "Allan Campopiano",
      "photoUrl": "//lh6.googleusercontent.com/-jajm12wFRU4/AAAAAAAAAAI/AAAAAAAAAws/b_aS-B759i4/s50-c-k-no/photo.jpg",
      "userId": "113962595821525423496"
     },
     "user_tz": 240
    },
    "id": "BPDKcOf08roW",
    "outputId": "ffbcf15e-b791-42cd-82d9-76ee8b11e7c8"
   },
   "outputs": [
    {
     "name": "stdout",
     "output_type": "stream",
     "text": [
      "['lisa', 'jenn']\n"
     ]
    }
   ],
   "source": [
    "a=['zoe', 'lisa', 'jenn']\n",
    "a.remove('zoe')\n",
    "print(a)"
   ]
  },
  {
   "cell_type": "code",
   "execution_count": 2,
   "metadata": {
    "colab": {
     "autoexec": {
      "startup": false,
      "wait_interval": 0
     },
     "base_uri": "https://localhost:8080/",
     "height": 36
    },
    "colab_type": "code",
    "executionInfo": {
     "elapsed": 284,
     "status": "ok",
     "timestamp": 1533311160145,
     "user": {
      "displayName": "Allan Campopiano",
      "photoUrl": "//lh6.googleusercontent.com/-jajm12wFRU4/AAAAAAAAAAI/AAAAAAAAAws/b_aS-B759i4/s50-c-k-no/photo.jpg",
      "userId": "113962595821525423496"
     },
     "user_tz": 240
    },
    "id": "hizB5sKq8yaa",
    "outputId": "f9426a40-a2d1-4836-9bd7-c50917e2cbea"
   },
   "outputs": [
    {
     "data": {
      "text/plain": [
       "6"
      ]
     },
     "execution_count": 2,
     "metadata": {
      "tags": []
     },
     "output_type": "execute_result"
    }
   ],
   "source": [
    "a=[1,2,3]\n",
    "sum(a)"
   ]
  },
  {
   "cell_type": "code",
   "execution_count": null,
   "metadata": {
    "colab": {
     "autoexec": {
      "startup": false,
      "wait_interval": 0
     }
    },
    "colab_type": "code",
    "id": "iX1BbOK_9Gjy"
   },
   "outputs": [],
   "source": [
    "a=[1,2,3]\n",
    "type(a)"
   ]
  },
  {
   "cell_type": "code",
   "execution_count": null,
   "metadata": {
    "colab": {
     "autoexec": {
      "startup": false,
      "wait_interval": 0
     }
    },
    "colab_type": "code",
    "id": "RWmsd9ev-Bid"
   },
   "outputs": [],
   "source": [
    "a=1\n",
    "type(a)"
   ]
  },
  {
   "cell_type": "code",
   "execution_count": null,
   "metadata": {
    "colab": {
     "autoexec": {
      "startup": false,
      "wait_interval": 0
     }
    },
    "colab_type": "code",
    "id": "ybsUNFaC-Dvy"
   },
   "outputs": [],
   "source": [
    "a={'names': ['melba', 'camillo', 'anna'], 'cars': ['BMW', 'Lexus', 'Mercedes']}\n",
    "type(a)"
   ]
  },
  {
   "cell_type": "markdown",
   "metadata": {
    "colab_type": "text",
    "id": "4oAb-Wes-gMU"
   },
   "source": [
    "## If you did the following, what would be printed out?\n",
    "\n",
    "```python\n",
    "sum(['1', '2', '3'])\n",
    "```"
   ]
  },
  {
   "cell_type": "markdown",
   "metadata": {
    "colab_type": "text",
    "id": "tpWC8ifD_eAN"
   },
   "source": [
    "## Methods\n",
    "\n",
    "- similar to functions\n",
    "- they use the \"dot\" notation"
   ]
  },
  {
   "cell_type": "markdown",
   "metadata": {
    "colab_type": "text",
    "id": "l_OucRY2Ivwx"
   },
   "source": [
    "## String Methods"
   ]
  },
  {
   "cell_type": "code",
   "execution_count": 3,
   "metadata": {
    "colab": {
     "autoexec": {
      "startup": false,
      "wait_interval": 0
     },
     "base_uri": "https://localhost:8080/",
     "height": 36
    },
    "colab_type": "code",
    "executionInfo": {
     "elapsed": 261,
     "status": "ok",
     "timestamp": 1533311190350,
     "user": {
      "displayName": "Allan Campopiano",
      "photoUrl": "//lh6.googleusercontent.com/-jajm12wFRU4/AAAAAAAAAAI/AAAAAAAAAws/b_aS-B759i4/s50-c-k-no/photo.jpg",
      "userId": "113962595821525423496"
     },
     "user_tz": 240
    },
    "id": "etB9_GDhDYDS",
    "outputId": "36a19269-0bfa-4886-ab50-d35c0df7f0c0"
   },
   "outputs": [
    {
     "name": "stdout",
     "output_type": "stream",
     "text": [
      "SOME SENTENCE THAT SEEMS LIKE YELLING\n"
     ]
    }
   ],
   "source": [
    "a='SOME SENTENCE THAT SEEMS LIKE YELLING'\n",
    "print(a)"
   ]
  },
  {
   "cell_type": "code",
   "execution_count": 4,
   "metadata": {
    "colab": {
     "autoexec": {
      "startup": false,
      "wait_interval": 0
     },
     "base_uri": "https://localhost:8080/",
     "height": 36
    },
    "colab_type": "code",
    "executionInfo": {
     "elapsed": 216,
     "status": "ok",
     "timestamp": 1533311203790,
     "user": {
      "displayName": "Allan Campopiano",
      "photoUrl": "//lh6.googleusercontent.com/-jajm12wFRU4/AAAAAAAAAAI/AAAAAAAAAws/b_aS-B759i4/s50-c-k-no/photo.jpg",
      "userId": "113962595821525423496"
     },
     "user_tz": 240
    },
    "id": "8VdP5obmDdqj",
    "outputId": "a96639bb-265a-4613-b954-7f6d27bd35d6"
   },
   "outputs": [
    {
     "data": {
      "text/plain": [
       "'some sentence that seems like yelling'"
      ]
     },
     "execution_count": 4,
     "metadata": {
      "tags": []
     },
     "output_type": "execute_result"
    }
   ],
   "source": [
    "a."
   ]
  },
  {
   "cell_type": "code",
   "execution_count": 5,
   "metadata": {
    "colab": {
     "autoexec": {
      "startup": false,
      "wait_interval": 0
     },
     "base_uri": "https://localhost:8080/",
     "height": 36
    },
    "colab_type": "code",
    "executionInfo": {
     "elapsed": 251,
     "status": "ok",
     "timestamp": 1533311408511,
     "user": {
      "displayName": "Allan Campopiano",
      "photoUrl": "//lh6.googleusercontent.com/-jajm12wFRU4/AAAAAAAAAAI/AAAAAAAAAws/b_aS-B759i4/s50-c-k-no/photo.jpg",
      "userId": "113962595821525423496"
     },
     "user_tz": 240
    },
    "id": "K1yj2XyXDxOi",
    "outputId": "e0e873b9-014f-4565-fe7d-b857b478fa3b"
   },
   "outputs": [
    {
     "data": {
      "text/plain": [
       "'A SENTENCE IN THAT I WANT TO MAKE UPPERCASE'"
      ]
     },
     "execution_count": 5,
     "metadata": {
      "tags": []
     },
     "output_type": "execute_result"
    }
   ],
   "source": [
    "b='a sentence in that i want to make uppercase'\n",
    "b.upper()"
   ]
  },
  {
   "cell_type": "code",
   "execution_count": 6,
   "metadata": {
    "colab": {
     "autoexec": {
      "startup": false,
      "wait_interval": 0
     },
     "base_uri": "https://localhost:8080/",
     "height": 36
    },
    "colab_type": "code",
    "executionInfo": {
     "elapsed": 235,
     "status": "ok",
     "timestamp": 1533311417503,
     "user": {
      "displayName": "Allan Campopiano",
      "photoUrl": "//lh6.googleusercontent.com/-jajm12wFRU4/AAAAAAAAAAI/AAAAAAAAAws/b_aS-B759i4/s50-c-k-no/photo.jpg",
      "userId": "113962595821525423496"
     },
     "user_tz": 240
    },
    "id": "lEW3hkdFI1b6",
    "outputId": "27bf08a2-3b33-4c3a-963e-7625025296e6"
   },
   "outputs": [
    {
     "name": "stdout",
     "output_type": "stream",
     "text": [
      "  some, sentence, with , weird, commas, and leading and trailing trailing spaces    \n"
     ]
    }
   ],
   "source": [
    "a='  some, sentence, with , weird, commas, and leading and trailing trailing spaces    '\n",
    "print(a)"
   ]
  },
  {
   "cell_type": "code",
   "execution_count": 7,
   "metadata": {
    "colab": {
     "autoexec": {
      "startup": false,
      "wait_interval": 0
     },
     "base_uri": "https://localhost:8080/",
     "height": 129
    },
    "colab_type": "code",
    "executionInfo": {
     "elapsed": 221,
     "status": "ok",
     "timestamp": 1533311426644,
     "user": {
      "displayName": "Allan Campopiano",
      "photoUrl": "//lh6.googleusercontent.com/-jajm12wFRU4/AAAAAAAAAAI/AAAAAAAAAws/b_aS-B759i4/s50-c-k-no/photo.jpg",
      "userId": "113962595821525423496"
     },
     "user_tz": 240
    },
    "id": "nC64AA-TI1Pj",
    "outputId": "fef88b20-01ed-431c-fa96-423d7f244afc"
   },
   "outputs": [
    {
     "data": {
      "text/plain": [
       "['  some',\n",
       " ' sentence',\n",
       " ' with ',\n",
       " ' weird',\n",
       " ' commas',\n",
       " ' and leading and trailing trailing spaces    ']"
      ]
     },
     "execution_count": 7,
     "metadata": {
      "tags": []
     },
     "output_type": "execute_result"
    }
   ],
   "source": [
    "a.split(',') "
   ]
  },
  {
   "cell_type": "code",
   "execution_count": 11,
   "metadata": {
    "colab": {
     "autoexec": {
      "startup": false,
      "wait_interval": 0
     },
     "base_uri": "https://localhost:8080/",
     "height": 36
    },
    "colab_type": "code",
    "executionInfo": {
     "elapsed": 235,
     "status": "ok",
     "timestamp": 1533311494439,
     "user": {
      "displayName": "Allan Campopiano",
      "photoUrl": "//lh6.googleusercontent.com/-jajm12wFRU4/AAAAAAAAAAI/AAAAAAAAAws/b_aS-B759i4/s50-c-k-no/photo.jpg",
      "userId": "113962595821525423496"
     },
     "user_tz": 240
    },
    "id": "Y1deKTXZI0_i",
    "outputId": "211c73a2-e7fa-40bc-9a23-8323201989e4"
   },
   "outputs": [
    {
     "data": {
      "text/plain": [
       "True"
      ]
     },
     "execution_count": 11,
     "metadata": {
      "tags": []
     },
     "output_type": "execute_result"
    }
   ],
   "source": [
    "b='I start with I'\n",
    "b.startswith('t')\n",
    "\n",
    "b[0]=='I'"
   ]
  },
  {
   "cell_type": "code",
   "execution_count": null,
   "metadata": {
    "colab": {
     "autoexec": {
      "startup": false,
      "wait_interval": 0
     },
     "base_uri": "https://localhost:8080/",
     "height": 54
    },
    "colab_type": "code",
    "executionInfo": {
     "elapsed": 402,
     "status": "ok",
     "timestamp": 1531841818082,
     "user": {
      "displayName": "Allan Campopiano",
      "photoUrl": "//lh6.googleusercontent.com/-jajm12wFRU4/AAAAAAAAAAI/AAAAAAAAAws/b_aS-B759i4/s50-c-k-no/photo.jpg",
      "userId": "113962595821525423496"
     },
     "user_tz": 240
    },
    "id": "csQ-pqy54ycH",
    "outputId": "875adf03-356e-4b8f-9000-f534509c04b0"
   },
   "outputs": [
    {
     "data": {
      "text/plain": [
       "'  some, sentence, with , weird, commas, and leading and trailing trailing spaces    '"
      ]
     },
     "execution_count": 24,
     "metadata": {
      "tags": []
     },
     "output_type": "execute_result"
    }
   ],
   "source": [
    "a"
   ]
  },
  {
   "cell_type": "code",
   "execution_count": 12,
   "metadata": {
    "colab": {
     "autoexec": {
      "startup": false,
      "wait_interval": 0
     },
     "base_uri": "https://localhost:8080/",
     "height": 36
    },
    "colab_type": "code",
    "executionInfo": {
     "elapsed": 223,
     "status": "ok",
     "timestamp": 1533311543486,
     "user": {
      "displayName": "Allan Campopiano",
      "photoUrl": "//lh6.googleusercontent.com/-jajm12wFRU4/AAAAAAAAAAI/AAAAAAAAAws/b_aS-B759i4/s50-c-k-no/photo.jpg",
      "userId": "113962595821525423496"
     },
     "user_tz": 240
    },
    "id": "NVks1LAfJICt",
    "outputId": "d3510ff0-4c5e-4428-d1ac-aa05709436a0"
   },
   "outputs": [
    {
     "data": {
      "text/plain": [
       "'some, sentence, with , weird, commas, and leading and trailing trailing spaces'"
      ]
     },
     "execution_count": 12,
     "metadata": {
      "tags": []
     },
     "output_type": "execute_result"
    }
   ],
   "source": [
    "a.strip()"
   ]
  },
  {
   "cell_type": "code",
   "execution_count": 17,
   "metadata": {
    "colab": {
     "autoexec": {
      "startup": false,
      "wait_interval": 0
     },
     "base_uri": "https://localhost:8080/",
     "height": 129
    },
    "colab_type": "code",
    "executionInfo": {
     "elapsed": 242,
     "status": "ok",
     "timestamp": 1533311763492,
     "user": {
      "displayName": "Allan Campopiano",
      "photoUrl": "//lh6.googleusercontent.com/-jajm12wFRU4/AAAAAAAAAAI/AAAAAAAAAws/b_aS-B759i4/s50-c-k-no/photo.jpg",
      "userId": "113962595821525423496"
     },
     "user_tz": 240
    },
    "id": "yUWDCKLtJWVC",
    "outputId": "5eeaf4a6-d0af-4ede-d2a7-35018152e205"
   },
   "outputs": [
    {
     "data": {
      "text/plain": [
       "['some',\n",
       " ' sentence',\n",
       " ' with ',\n",
       " ' weird',\n",
       " ' commas',\n",
       " ' and leading and trailing trailing spaces']"
      ]
     },
     "execution_count": 17,
     "metadata": {
      "tags": []
     },
     "output_type": "execute_result"
    }
   ],
   "source": [
    "a.strip().split(',')"
   ]
  },
  {
   "cell_type": "code",
   "execution_count": 18,
   "metadata": {
    "colab": {
     "autoexec": {
      "startup": false,
      "wait_interval": 0
     },
     "base_uri": "https://localhost:8080/",
     "height": 36
    },
    "colab_type": "code",
    "executionInfo": {
     "elapsed": 269,
     "status": "ok",
     "timestamp": 1533311959060,
     "user": {
      "displayName": "Allan Campopiano",
      "photoUrl": "//lh6.googleusercontent.com/-jajm12wFRU4/AAAAAAAAAAI/AAAAAAAAAws/b_aS-B759i4/s50-c-k-no/photo.jpg",
      "userId": "113962595821525423496"
     },
     "user_tz": 240
    },
    "id": "-I0A5dRHJcFD",
    "outputId": "96d8a3b5-5c11-4c87-ad86-c26aca17c73f"
   },
   "outputs": [
    {
     "data": {
      "text/plain": [
       "'  zome, zentence, with , weird, commaz, and leading and trailing trailing zpacez    '"
      ]
     },
     "execution_count": 18,
     "metadata": {
      "tags": []
     },
     "output_type": "execute_result"
    }
   ],
   "source": [
    "a.replace('s', 'z')"
   ]
  },
  {
   "cell_type": "code",
   "execution_count": null,
   "metadata": {
    "colab": {
     "autoexec": {
      "startup": false,
      "wait_interval": 0
     },
     "base_uri": "https://localhost:8080/",
     "height": 34
    },
    "colab_type": "code",
    "executionInfo": {
     "elapsed": 864,
     "status": "ok",
     "timestamp": 1531841934362,
     "user": {
      "displayName": "Allan Campopiano",
      "photoUrl": "//lh6.googleusercontent.com/-jajm12wFRU4/AAAAAAAAAAI/AAAAAAAAAws/b_aS-B759i4/s50-c-k-no/photo.jpg",
      "userId": "113962595821525423496"
     },
     "user_tz": 240
    },
    "id": "i00KFHfZFr2U",
    "outputId": "0a3909dd-9954-40cf-b3c2-cf7a57a766eb"
   },
   "outputs": [
    {
     "data": {
      "text/plain": [
       "'Martin'"
      ]
     },
     "execution_count": 28,
     "metadata": {
      "tags": []
     },
     "output_type": "execute_result"
    }
   ],
   "source": [
    "a='martin'\n",
    "a.capitalize()"
   ]
  },
  {
   "cell_type": "code",
   "execution_count": 22,
   "metadata": {
    "colab": {
     "autoexec": {
      "startup": false,
      "wait_interval": 0
     },
     "base_uri": "https://localhost:8080/",
     "height": 36
    },
    "colab_type": "code",
    "executionInfo": {
     "elapsed": 205,
     "status": "ok",
     "timestamp": 1533312050146,
     "user": {
      "displayName": "Allan Campopiano",
      "photoUrl": "//lh6.googleusercontent.com/-jajm12wFRU4/AAAAAAAAAAI/AAAAAAAAAws/b_aS-B759i4/s50-c-k-no/photo.jpg",
      "userId": "113962595821525423496"
     },
     "user_tz": 240
    },
    "id": "InnOtmyxMig7",
    "outputId": "3403957e-fc66-4e8a-880a-d7d1fcb7d85e"
   },
   "outputs": [
    {
     "data": {
      "text/plain": [
       "'slight,of,hand'"
      ]
     },
     "execution_count": 22,
     "metadata": {
      "tags": []
     },
     "output_type": "execute_result"
    }
   ],
   "source": [
    "list_of_strings=['slight', 'of', 'hand']\n",
    "\n",
    "my_dash=','\n",
    "\n",
    "my_dash.join(list_of_strings)"
   ]
  },
  {
   "cell_type": "code",
   "execution_count": null,
   "metadata": {
    "colab": {
     "autoexec": {
      "startup": false,
      "wait_interval": 0
     }
    },
    "colab_type": "code",
    "id": "gK8s9mq0E9ui"
   },
   "outputs": [],
   "source": [
    "list_of_strings=['slight', 'of', 'hand']\n",
    "\n",
    "separator='         '\n",
    "\n",
    "separator.join(list_of_strings)"
   ]
  },
  {
   "cell_type": "code",
   "execution_count": null,
   "metadata": {
    "colab": {
     "autoexec": {
      "startup": false,
      "wait_interval": 0
     }
    },
    "colab_type": "code",
    "id": "NOu8DoX6FL6C"
   },
   "outputs": [],
   "source": [
    "list_of_strings=['slight', 'of', 'hand']\n",
    "\n",
    "separator=':'\n",
    "\n",
    "separator.join(list_of_strings)"
   ]
  },
  {
   "cell_type": "markdown",
   "metadata": {
    "colab_type": "text",
    "id": "g434OTUwPpzl"
   },
   "source": [
    "## Using the following string methods, what will be printed out?\n",
    "\n",
    "<font color=red>FAIRLY DIFFICULT</font>\n",
    "\n",
    "\n",
    "```python\n",
    "list_of_strings=['hello', 'my', 'name', 'is']\n",
    "a_string=' zlim zhady'\n",
    "\n",
    "a_string=a_string.replace('z', 's')\n",
    "separator=' '\n",
    "separator=separator.join(list_of_strings)\n",
    "\n",
    "print(separator + a_string)\n",
    "\n",
    "```"
   ]
  },
  {
   "cell_type": "markdown",
   "metadata": {
    "colab_type": "text",
    "id": "nbWHpx6iGtNZ"
   },
   "source": [
    "## List Methods"
   ]
  },
  {
   "cell_type": "code",
   "execution_count": 23,
   "metadata": {
    "colab": {
     "autoexec": {
      "startup": false,
      "wait_interval": 0
     },
     "base_uri": "https://localhost:8080/",
     "height": 36
    },
    "colab_type": "code",
    "executionInfo": {
     "elapsed": 335,
     "status": "ok",
     "timestamp": 1533312076938,
     "user": {
      "displayName": "Allan Campopiano",
      "photoUrl": "//lh6.googleusercontent.com/-jajm12wFRU4/AAAAAAAAAAI/AAAAAAAAAws/b_aS-B759i4/s50-c-k-no/photo.jpg",
      "userId": "113962595821525423496"
     },
     "user_tz": 240
    },
    "id": "iisHWVISGxyC",
    "outputId": "10745bbf-1507-4b69-8b6f-4dd1217f6884"
   },
   "outputs": [
    {
     "name": "stdout",
     "output_type": "stream",
     "text": [
      "['peter', 'paul']\n"
     ]
    }
   ],
   "source": [
    "a=['peter', 'paul']\n",
    "print(a)"
   ]
  },
  {
   "cell_type": "code",
   "execution_count": 24,
   "metadata": {
    "colab": {
     "autoexec": {
      "startup": false,
      "wait_interval": 0
     },
     "base_uri": "https://localhost:8080/",
     "height": 36
    },
    "colab_type": "code",
    "executionInfo": {
     "elapsed": 246,
     "status": "ok",
     "timestamp": 1533312092205,
     "user": {
      "displayName": "Allan Campopiano",
      "photoUrl": "//lh6.googleusercontent.com/-jajm12wFRU4/AAAAAAAAAAI/AAAAAAAAAws/b_aS-B759i4/s50-c-k-no/photo.jpg",
      "userId": "113962595821525423496"
     },
     "user_tz": 240
    },
    "id": "Q-iOyLfWHK64",
    "outputId": "5de9d094-3ad3-4871-d7f1-2650c5c4eb1d"
   },
   "outputs": [
    {
     "name": "stdout",
     "output_type": "stream",
     "text": [
      "['peter', 'paul', 'mary']\n"
     ]
    }
   ],
   "source": [
    "a.append('mary')\n",
    "print(a)"
   ]
  },
  {
   "cell_type": "code",
   "execution_count": 25,
   "metadata": {
    "colab": {
     "autoexec": {
      "startup": false,
      "wait_interval": 0
     },
     "base_uri": "https://localhost:8080/",
     "height": 36
    },
    "colab_type": "code",
    "executionInfo": {
     "elapsed": 256,
     "status": "ok",
     "timestamp": 1533312117683,
     "user": {
      "displayName": "Allan Campopiano",
      "photoUrl": "//lh6.googleusercontent.com/-jajm12wFRU4/AAAAAAAAAAI/AAAAAAAAAws/b_aS-B759i4/s50-c-k-no/photo.jpg",
      "userId": "113962595821525423496"
     },
     "user_tz": 240
    },
    "id": "biE32-SeHSyR",
    "outputId": "a6cb7c38-6cae-49dc-8245-2888a9ee6243"
   },
   "outputs": [
    {
     "name": "stdout",
     "output_type": "stream",
     "text": [
      "[1, 2, 3, 'mary']\n"
     ]
    }
   ],
   "source": [
    "a=[1,2,3]\n",
    "a.append('mary')\n",
    "print(a)"
   ]
  },
  {
   "cell_type": "code",
   "execution_count": 26,
   "metadata": {
    "colab": {
     "autoexec": {
      "startup": false,
      "wait_interval": 0
     },
     "base_uri": "https://localhost:8080/",
     "height": 36
    },
    "colab_type": "code",
    "executionInfo": {
     "elapsed": 254,
     "status": "ok",
     "timestamp": 1533312123445,
     "user": {
      "displayName": "Allan Campopiano",
      "photoUrl": "//lh6.googleusercontent.com/-jajm12wFRU4/AAAAAAAAAAI/AAAAAAAAAws/b_aS-B759i4/s50-c-k-no/photo.jpg",
      "userId": "113962595821525423496"
     },
     "user_tz": 240
    },
    "id": "ius0J00KHZj5",
    "outputId": "f0c07259-b199-4e87-a917-28bad648a075"
   },
   "outputs": [
    {
     "name": "stdout",
     "output_type": "stream",
     "text": [
      "['peter', 'paul']\n"
     ]
    }
   ],
   "source": [
    "a=['peter', 'paul', 'mary']\n",
    "a.remove('mary')\n",
    "print(a)"
   ]
  },
  {
   "cell_type": "code",
   "execution_count": null,
   "metadata": {
    "colab": {
     "autoexec": {
      "startup": false,
      "wait_interval": 0
     }
    },
    "colab_type": "code",
    "id": "pVqgTpxVhuAu"
   },
   "outputs": [],
   "source": [
    "a=['peter', 'paul', 'mary']\n",
    "a.pop('mary')\n",
    "print(a)"
   ]
  },
  {
   "cell_type": "code",
   "execution_count": null,
   "metadata": {
    "colab": {
     "autoexec": {
      "startup": false,
      "wait_interval": 0
     }
    },
    "colab_type": "code",
    "id": "cORW6-y0h5is"
   },
   "outputs": [],
   "source": [
    "a.pop()"
   ]
  },
  {
   "cell_type": "code",
   "execution_count": 27,
   "metadata": {
    "colab": {
     "autoexec": {
      "startup": false,
      "wait_interval": 0
     },
     "base_uri": "https://localhost:8080/",
     "height": 36
    },
    "colab_type": "code",
    "executionInfo": {
     "elapsed": 247,
     "status": "ok",
     "timestamp": 1533312129990,
     "user": {
      "displayName": "Allan Campopiano",
      "photoUrl": "//lh6.googleusercontent.com/-jajm12wFRU4/AAAAAAAAAAI/AAAAAAAAAws/b_aS-B759i4/s50-c-k-no/photo.jpg",
      "userId": "113962595821525423496"
     },
     "user_tz": 240
    },
    "id": "aMxXuDIXHpQE",
    "outputId": "0dfeee2f-00f8-488f-87c3-72c8657db620"
   },
   "outputs": [
    {
     "data": {
      "text/plain": [
       "2"
      ]
     },
     "execution_count": 27,
     "metadata": {
      "tags": []
     },
     "output_type": "execute_result"
    }
   ],
   "source": [
    "a=[1,2,3]\n",
    "a.pop(1)"
   ]
  },
  {
   "cell_type": "code",
   "execution_count": 32,
   "metadata": {
    "colab": {
     "autoexec": {
      "startup": false,
      "wait_interval": 0
     },
     "base_uri": "https://localhost:8080/",
     "height": 36
    },
    "colab_type": "code",
    "executionInfo": {
     "elapsed": 251,
     "status": "ok",
     "timestamp": 1533312329256,
     "user": {
      "displayName": "Allan Campopiano",
      "photoUrl": "//lh6.googleusercontent.com/-jajm12wFRU4/AAAAAAAAAAI/AAAAAAAAAws/b_aS-B759i4/s50-c-k-no/photo.jpg",
      "userId": "113962595821525423496"
     },
     "user_tz": 240
    },
    "id": "w16vYZZ3H7xt",
    "outputId": "ff1f29a2-09d0-46e8-caf3-a5c203e18aea"
   },
   "outputs": [
    {
     "name": "stdout",
     "output_type": "stream",
     "text": [
      "[3, 2, 1]\n"
     ]
    }
   ],
   "source": [
    "a=[2,3,1]\n",
    "a.sort(reverse=True)\n",
    "print(a)"
   ]
  },
  {
   "cell_type": "code",
   "execution_count": 37,
   "metadata": {
    "colab": {
     "autoexec": {
      "startup": false,
      "wait_interval": 0
     },
     "base_uri": "https://localhost:8080/",
     "height": 36
    },
    "colab_type": "code",
    "executionInfo": {
     "elapsed": 211,
     "status": "ok",
     "timestamp": 1533312414152,
     "user": {
      "displayName": "Allan Campopiano",
      "photoUrl": "//lh6.googleusercontent.com/-jajm12wFRU4/AAAAAAAAAAI/AAAAAAAAAws/b_aS-B759i4/s50-c-k-no/photo.jpg",
      "userId": "113962595821525423496"
     },
     "user_tz": 240
    },
    "id": "K9HMSlLeIbRE",
    "outputId": "8e1accdd-9020-4af5-8b6d-290d44b8cc7a"
   },
   "outputs": [
    {
     "name": "stdout",
     "output_type": "stream",
     "text": [
      "['Charles', 'Bob', 'Al']\n"
     ]
    }
   ],
   "source": [
    "a=['Al', 'Bob', 'Charles']\n",
    "a.sort(reverse=True)\n",
    "print(a)"
   ]
  },
  {
   "cell_type": "code",
   "execution_count": null,
   "metadata": {
    "colab": {
     "autoexec": {
      "startup": false,
      "wait_interval": 0
     }
    },
    "colab_type": "code",
    "id": "gsnrtGQmirl_"
   },
   "outputs": [],
   "source": [
    "a.sort()"
   ]
  },
  {
   "cell_type": "markdown",
   "metadata": {
    "colab_type": "text",
    "id": "gc3IfOUEPV4G"
   },
   "source": [
    "## Using the following list methods, what will be printed out?\n",
    "\n",
    "<font color=red>FAIRLY DIFFICULT</font>\n",
    "\n",
    "```python\n",
    "empty_list=[]\n",
    "number_of_absences=[1,3,6,2,10,11,1,20,6,7]\n",
    "\n",
    "for n in number_of_absences:\n",
    "  if n>10:\n",
    "    empty_list.append(n)\n",
    "    \n",
    "print(len(empty_list))\n",
    "\n",
    "```"
   ]
  },
  {
   "cell_type": "markdown",
   "metadata": {
    "colab_type": "text",
    "id": "lW64iNWuK_kl"
   },
   "source": [
    "## Using the following string and list methods, what will be printed out?\n",
    "\n",
    "<font color=red>VERY DIFFICULT</font>\n",
    "\n",
    "```python\n",
    "result=[]\n",
    "comma=', '\n",
    "allan_info='allan,campopiano,m,01/17/83'\n",
    "list_of_strings=allan_info.split(',')\n",
    "\n",
    "for item in list_of_strings:\n",
    "  capital_string=item.capitalize()\n",
    "  result.append(capital_string)\n",
    "\n",
    "result=comma.join(result)\n",
    "  \n",
    "print(result)\n",
    "\n",
    "\n",
    "\n",
    "```"
   ]
  },
  {
   "cell_type": "markdown",
   "metadata": {
    "colab_type": "text",
    "id": "dFh4c6QmHoOB"
   },
   "source": [
    "## Dictionary methods"
   ]
  },
  {
   "cell_type": "code",
   "execution_count": null,
   "metadata": {
    "colab": {
     "autoexec": {
      "startup": false,
      "wait_interval": 0
     }
    },
    "colab_type": "code",
    "id": "dxJQx0CoKVt6"
   },
   "outputs": [],
   "source": [
    "dictionary={'analyst': 'Allan', 'officer': 'Jenn', 'researcher': 'Zoe', 'chief': 'Lisa'}\n",
    "dictionary.keys()"
   ]
  },
  {
   "cell_type": "code",
   "execution_count": null,
   "metadata": {
    "colab": {
     "autoexec": {
      "startup": false,
      "wait_interval": 0
     }
    },
    "colab_type": "code",
    "id": "IcFmXUuZKw_c"
   },
   "outputs": [],
   "source": [
    "dictionary={'analyst': 'Allan', 'officer': 'Jenn', 'researcher': 'Zoe', 'chief': 'Lisa'}\n",
    "dictionary.values()"
   ]
  },
  {
   "cell_type": "code",
   "execution_count": null,
   "metadata": {
    "colab": {
     "autoexec": {
      "startup": false,
      "wait_interval": 0
     }
    },
    "colab_type": "code",
    "id": "efvAXK-qJIAE"
   },
   "outputs": [],
   "source": [
    "dictionary={'analyst': 'Allan', 'officer': 'Jenn', 'researcher': 'Zoe', 'chief': 'Lisa'}\n",
    "dictionary.items()"
   ]
  },
  {
   "cell_type": "code",
   "execution_count": null,
   "metadata": {
    "colab": {
     "autoexec": {
      "startup": false,
      "wait_interval": 0
     }
    },
    "colab_type": "code",
    "id": "0RKUbXY7Jpkc"
   },
   "outputs": [],
   "source": [
    "for key, value in dictionary.items():\n",
    "  print(value, 'has the role of', key)"
   ]
  },
  {
   "cell_type": "markdown",
   "metadata": {
    "colab_type": "text",
    "id": "fSwrFiGONEoN"
   },
   "source": [
    "## <font color=blue>The \"items\" method gives us a list of pairs (key, value). Based on the following dictionary, what would the first pair be?</font>\n",
    "  \n",
    "  ```python\n",
    "dictionary={'TV show': ['Seinfeld', 'Friends'], 'Movie': ['E.T', 'Wizard of OZ']}\n",
    "```\n",
    "```\n",
    "  A. 'TV show': ['Seinfeld', 'Friends']\n",
    "  B. 'Movie': ['E.T', 'Wizard of OZ']\n",
    "  C. ['Seinfeld', 'Friends']\n",
    "  D. ['E.T', 'Wizard of OZ']\n",
    "```"
   ]
  },
  {
   "cell_type": "markdown",
   "metadata": {
    "colab_type": "text",
    "id": "iSlbisRhWkep"
   },
   "source": [
    "## Writing your own functions\n",
    "- functions allow you to perform multiple steps in one command\n",
    "- criticle for any real program or automation\n",
    "- begins with a key word \"def\" for \"define\"\n",
    "- functions have inputs and outputs\n"
   ]
  },
  {
   "cell_type": "markdown",
   "metadata": {
    "colab_type": "text",
    "id": "IE9S8XHZXE83"
   },
   "source": [
    "### here's a function that will print your name"
   ]
  },
  {
   "cell_type": "code",
   "execution_count": null,
   "metadata": {
    "colab": {
     "autoexec": {
      "startup": false,
      "wait_interval": 0
     }
    },
    "colab_type": "code",
    "id": "g-yjd2f3Wwgm"
   },
   "outputs": [],
   "source": [
    "def my_own_function(x):\n",
    "  return print(x)"
   ]
  },
  {
   "cell_type": "code",
   "execution_count": 42,
   "metadata": {
    "colab": {
     "autoexec": {
      "startup": false,
      "wait_interval": 0
     },
     "base_uri": "https://localhost:8080/",
     "height": 35
    },
    "colab_type": "code",
    "executionInfo": {
     "elapsed": 396,
     "status": "ok",
     "timestamp": 1533312706193,
     "user": {
      "displayName": "Allan Campopiano",
      "photoUrl": "//lh6.googleusercontent.com/-jajm12wFRU4/AAAAAAAAAAI/AAAAAAAAAws/b_aS-B759i4/s50-c-k-no/photo.jpg",
      "userId": "113962595821525423496"
     },
     "user_tz": 240
    },
    "id": "liZgMPfEjd8F",
    "outputId": "62bac314-50d6-4d48-d45f-c1032dfef788"
   },
   "outputs": [
    {
     "name": "stdout",
     "output_type": "stream",
     "text": [
      "Marie is cool is she?\n"
     ]
    }
   ],
   "source": [
    "my_own_function('Marie is cool', 'is she?')"
   ]
  },
  {
   "cell_type": "markdown",
   "metadata": {
    "colab_type": "text",
    "id": "SLCN-J1PXQRW"
   },
   "source": [
    "### let's run it"
   ]
  },
  {
   "cell_type": "code",
   "execution_count": null,
   "metadata": {
    "colab": {
     "autoexec": {
      "startup": false,
      "wait_interval": 0
     },
     "base_uri": "https://localhost:8080/",
     "height": 34
    },
    "colab_type": "code",
    "executionInfo": {
     "elapsed": 234,
     "status": "ok",
     "timestamp": 1531842244016,
     "user": {
      "displayName": "Allan Campopiano",
      "photoUrl": "//lh6.googleusercontent.com/-jajm12wFRU4/AAAAAAAAAAI/AAAAAAAAAws/b_aS-B759i4/s50-c-k-no/photo.jpg",
      "userId": "113962595821525423496"
     },
     "user_tz": 240
    },
    "id": "Zhr0dc5zXPXu",
    "outputId": "308a20c4-e54c-427e-aecb-71a5ec01b663"
   },
   "outputs": [
    {
     "name": "stdout",
     "output_type": "stream",
     "text": [
      "Al\n"
     ]
    }
   ],
   "source": [
    "my_own_function('Al')"
   ]
  },
  {
   "cell_type": "code",
   "execution_count": 44,
   "metadata": {
    "colab": {
     "autoexec": {
      "startup": false,
      "wait_interval": 0
     },
     "base_uri": "https://localhost:8080/",
     "height": 35
    },
    "colab_type": "code",
    "executionInfo": {
     "elapsed": 216,
     "status": "ok",
     "timestamp": 1533312749063,
     "user": {
      "displayName": "Allan Campopiano",
      "photoUrl": "//lh6.googleusercontent.com/-jajm12wFRU4/AAAAAAAAAAI/AAAAAAAAAws/b_aS-B759i4/s50-c-k-no/photo.jpg",
      "userId": "113962595821525423496"
     },
     "user_tz": 240
    },
    "id": "RZlqlTW1XaYf",
    "outputId": "53a1a076-99c9-4ccc-a80f-7a4b50de65ce"
   },
   "outputs": [
    {
     "name": "stdout",
     "output_type": "stream",
     "text": [
      "Lisa\n"
     ]
    }
   ],
   "source": [
    "my_own_function('Lisa')"
   ]
  },
  {
   "cell_type": "code",
   "execution_count": null,
   "metadata": {
    "colab": {
     "autoexec": {
      "startup": false,
      "wait_interval": 0
     },
     "base_uri": "https://localhost:8080/",
     "height": 34
    },
    "colab_type": "code",
    "executionInfo": {
     "elapsed": 424,
     "status": "ok",
     "timestamp": 1531842273776,
     "user": {
      "displayName": "Allan Campopiano",
      "photoUrl": "//lh6.googleusercontent.com/-jajm12wFRU4/AAAAAAAAAAI/AAAAAAAAAws/b_aS-B759i4/s50-c-k-no/photo.jpg",
      "userId": "113962595821525423496"
     },
     "user_tz": 240
    },
    "id": "gx2Xj64rXcXq",
    "outputId": "2b94592e-f07d-431f-e311-6f7978c65966"
   },
   "outputs": [
    {
     "name": "stdout",
     "output_type": "stream",
     "text": [
      "Spicer\n"
     ]
    }
   ],
   "source": [
    "my_own_function('Spicer')"
   ]
  },
  {
   "cell_type": "markdown",
   "metadata": {
    "colab_type": "text",
    "id": "XuhaSfJrXhN-"
   },
   "source": [
    "### function to print the first letter of a string"
   ]
  },
  {
   "cell_type": "code",
   "execution_count": null,
   "metadata": {
    "colab": {
     "autoexec": {
      "startup": false,
      "wait_interval": 0
     }
    },
    "colab_type": "code",
    "id": "U62-byIfXogh"
   },
   "outputs": [],
   "source": [
    "def print_first_letter(some_string):\n",
    "  return print(some_string[0])"
   ]
  },
  {
   "cell_type": "code",
   "execution_count": 46,
   "metadata": {
    "colab": {
     "autoexec": {
      "startup": false,
      "wait_interval": 0
     },
     "base_uri": "https://localhost:8080/",
     "height": 35
    },
    "colab_type": "code",
    "executionInfo": {
     "elapsed": 216,
     "status": "ok",
     "timestamp": 1533312812264,
     "user": {
      "displayName": "Allan Campopiano",
      "photoUrl": "//lh6.googleusercontent.com/-jajm12wFRU4/AAAAAAAAAAI/AAAAAAAAAws/b_aS-B759i4/s50-c-k-no/photo.jpg",
      "userId": "113962595821525423496"
     },
     "user_tz": 240
    },
    "id": "Oq00ieGkXwMP",
    "outputId": "c8412210-c666-410b-e648-9391f253e53f"
   },
   "outputs": [
    {
     "name": "stdout",
     "output_type": "stream",
     "text": [
      "J\n"
     ]
    }
   ],
   "source": [
    "print_first_letter('Jenn')"
   ]
  },
  {
   "cell_type": "code",
   "execution_count": null,
   "metadata": {
    "colab": {
     "autoexec": {
      "startup": false,
      "wait_interval": 0
     }
    },
    "colab_type": "code",
    "id": "4VYkYxSOXzNx"
   },
   "outputs": [],
   "source": [
    "print_first_letter('Lisa')"
   ]
  },
  {
   "cell_type": "code",
   "execution_count": null,
   "metadata": {
    "colab": {
     "autoexec": {
      "startup": false,
      "wait_interval": 0
     }
    },
    "colab_type": "code",
    "id": "Xv7GJLcaX1Ku"
   },
   "outputs": [],
   "source": [
    "print_first_letter('Spicer')"
   ]
  },
  {
   "cell_type": "markdown",
   "metadata": {
    "colab_type": "text",
    "id": "bAjVdHVZX6LA"
   },
   "source": [
    "### function to clean up a messy string\n",
    "- remove trailing and leading whitespace\n",
    "- capitalize in the right places"
   ]
  },
  {
   "cell_type": "code",
   "execution_count": null,
   "metadata": {
    "colab": {
     "autoexec": {
      "startup": false,
      "wait_interval": 0
     }
    },
    "colab_type": "code",
    "id": "SEyjoPE5X_4K"
   },
   "outputs": [],
   "source": [
    "messy_string='                    aLLaN cAmPo             '"
   ]
  },
  {
   "cell_type": "code",
   "execution_count": null,
   "metadata": {
    "colab": {
     "autoexec": {
      "startup": false,
      "wait_interval": 0
     }
    },
    "colab_type": "code",
    "id": "yGgujSeaYcnv"
   },
   "outputs": [],
   "source": [
    "def clean_string(messy_string):\n",
    "  messy_string=messy_string.strip()\n",
    "  messy_string=messy_string.lower()\n",
    "  first_name, last_name=messy_string.split(' ')\n",
    "  first_name=first_name.capitalize()\n",
    "  last_name=last_name.capitalize()\n",
    "  messy_string=' '.join([first_name, last_name])\n",
    "  \n",
    "  return messy_string"
   ]
  },
  {
   "cell_type": "code",
   "execution_count": 53,
   "metadata": {
    "colab": {
     "autoexec": {
      "startup": false,
      "wait_interval": 0
     },
     "base_uri": "https://localhost:8080/",
     "height": 35
    },
    "colab_type": "code",
    "executionInfo": {
     "elapsed": 232,
     "status": "ok",
     "timestamp": 1533313690135,
     "user": {
      "displayName": "Allan Campopiano",
      "photoUrl": "//lh6.googleusercontent.com/-jajm12wFRU4/AAAAAAAAAAI/AAAAAAAAAws/b_aS-B759i4/s50-c-k-no/photo.jpg",
      "userId": "113962595821525423496"
     },
     "user_tz": 240
    },
    "id": "cOB1LtmdatvQ",
    "outputId": "4db3539a-206f-4496-c484-db4f9d1f73f4"
   },
   "outputs": [
    {
     "data": {
      "text/plain": [
       "'Allan Campo'"
      ]
     },
     "execution_count": 53,
     "metadata": {
      "tags": []
     },
     "output_type": "execute_result"
    }
   ],
   "source": [
    "clean_string(messy_string)"
   ]
  },
  {
   "cell_type": "code",
   "execution_count": 54,
   "metadata": {
    "colab": {
     "autoexec": {
      "startup": false,
      "wait_interval": 0
     },
     "base_uri": "https://localhost:8080/",
     "height": 35
    },
    "colab_type": "code",
    "executionInfo": {
     "elapsed": 581,
     "status": "ok",
     "timestamp": 1533313702069,
     "user": {
      "displayName": "Allan Campopiano",
      "photoUrl": "//lh6.googleusercontent.com/-jajm12wFRU4/AAAAAAAAAAI/AAAAAAAAAws/b_aS-B759i4/s50-c-k-no/photo.jpg",
      "userId": "113962595821525423496"
     },
     "user_tz": 240
    },
    "id": "VHUAJ8vybSzV",
    "outputId": "26fa6c9b-8b0c-4e32-9c41-f01552fd903d"
   },
   "outputs": [
    {
     "data": {
      "text/plain": [
       "'Allan Campopiano'"
      ]
     },
     "execution_count": 54,
     "metadata": {
      "tags": []
     },
     "output_type": "execute_result"
    }
   ],
   "source": [
    "clean_string('                                          aLlAn cAmPoPiAnO                                       ')"
   ]
  },
  {
   "cell_type": "markdown",
   "metadata": {
    "colab_type": "text",
    "id": "HGlZJQT6bi8b"
   },
   "source": [
    "### function to make a list grow as big as you want"
   ]
  },
  {
   "cell_type": "code",
   "execution_count": null,
   "metadata": {
    "colab": {
     "autoexec": {
      "startup": false,
      "wait_interval": 0
     },
     "base_uri": "https://localhost:8080/",
     "height": 34
    },
    "colab_type": "code",
    "executionInfo": {
     "elapsed": 331,
     "status": "ok",
     "timestamp": 1531842579291,
     "user": {
      "displayName": "Allan Campopiano",
      "photoUrl": "//lh6.googleusercontent.com/-jajm12wFRU4/AAAAAAAAAAI/AAAAAAAAAws/b_aS-B759i4/s50-c-k-no/photo.jpg",
      "userId": "113962595821525423496"
     },
     "user_tz": 240
    },
    "id": "W1zFcmSb7p_W",
    "outputId": "17e55d92-af13-4a07-80f5-eabec75b8938"
   },
   "outputs": [
    {
     "data": {
      "text/plain": [
       "['al', 'lisa', 'al', 'lisa']"
      ]
     },
     "execution_count": 44,
     "metadata": {
      "tags": []
     },
     "output_type": "execute_result"
    }
   ],
   "source": [
    "['al', 'lisa']*2"
   ]
  },
  {
   "cell_type": "code",
   "execution_count": null,
   "metadata": {
    "colab": {
     "autoexec": {
      "startup": false,
      "wait_interval": 0
     }
    },
    "colab_type": "code",
    "id": "kBOjs1C-bhhQ"
   },
   "outputs": [],
   "source": [
    "def grow_list(my_list,size):\n",
    "  my_list=my_list*size\n",
    "  return my_list"
   ]
  },
  {
   "cell_type": "code",
   "execution_count": null,
   "metadata": {
    "colab": {
     "autoexec": {
      "startup": false,
      "wait_interval": 0
     }
    },
    "colab_type": "code",
    "id": "G1zntgv-b0i_"
   },
   "outputs": [],
   "source": [
    "my_list=['al', 'joan', 'spicer']\n",
    "size=30\n",
    "grow_list(my_list,size)"
   ]
  },
  {
   "cell_type": "code",
   "execution_count": null,
   "metadata": {
    "colab": {
     "autoexec": {
      "startup": false,
      "wait_interval": 0
     }
    },
    "colab_type": "code",
    "id": "RryttS_dcJfX"
   },
   "outputs": [],
   "source": [
    "grow_list(my_list,)"
   ]
  },
  {
   "cell_type": "markdown",
   "metadata": {
    "colab_type": "text",
    "id": "icKX6GgacOZs"
   },
   "source": [
    "### function to divide a number and round the result to some number of decimal places\n"
   ]
  },
  {
   "cell_type": "code",
   "execution_count": null,
   "metadata": {
    "colab": {
     "autoexec": {
      "startup": false,
      "wait_interval": 0
     }
    },
    "colab_type": "code",
    "id": "Mj2EXWoFcNXp"
   },
   "outputs": [],
   "source": [
    "def divide_and_round(number, divide_by, decimal_places):\n",
    "  new_number=round(number/divide_by, decimal_places)\n",
    "  return new_number"
   ]
  },
  {
   "cell_type": "code",
   "execution_count": null,
   "metadata": {
    "colab": {
     "autoexec": {
      "startup": false,
      "wait_interval": 0
     },
     "base_uri": "https://localhost:8080/",
     "height": 34
    },
    "colab_type": "code",
    "executionInfo": {
     "elapsed": 285,
     "status": "ok",
     "timestamp": 1531842678355,
     "user": {
      "displayName": "Allan Campopiano",
      "photoUrl": "//lh6.googleusercontent.com/-jajm12wFRU4/AAAAAAAAAAI/AAAAAAAAAws/b_aS-B759i4/s50-c-k-no/photo.jpg",
      "userId": "113962595821525423496"
     },
     "user_tz": 240
    },
    "id": "QX4EBTA9eZAf",
    "outputId": "6a934e4f-4012-4e31-ee0a-04f877ed9086"
   },
   "outputs": [
    {
     "data": {
      "text/plain": [
       "3.333"
      ]
     },
     "execution_count": 49,
     "metadata": {
      "tags": []
     },
     "output_type": "execute_result"
    }
   ],
   "source": [
    "divide_and_round(10,3,3)"
   ]
  },
  {
   "cell_type": "markdown",
   "metadata": {
    "colab_type": "text",
    "id": "rs5VVw7xfTiF"
   },
   "source": [
    "## <font color=blue>Why would you write your own function?</font>"
   ]
  }
 ],
 "metadata": {
  "colab": {
   "collapsed_sections": [],
   "default_view": {},
   "name": "4_methods_and_functions",
   "provenance": [
    {
     "file_id": "1B2kdhnm0KDZpANC2WT4lirXOxNHQ5FF2",
     "timestamp": 1530232572724
    }
   ],
   "version": "0.3.2",
   "views": {}
  },
  "kernelspec": {
   "display_name": "Python 3",
   "language": "python",
   "name": "python3"
  },
  "language_info": {
   "codemirror_mode": {
    "name": "ipython",
    "version": 3
   },
   "file_extension": ".py",
   "mimetype": "text/x-python",
   "name": "python",
   "nbconvert_exporter": "python",
   "pygments_lexer": "ipython3",
   "version": "3.7.1"
  }
 },
 "nbformat": 4,
 "nbformat_minor": 4
}
